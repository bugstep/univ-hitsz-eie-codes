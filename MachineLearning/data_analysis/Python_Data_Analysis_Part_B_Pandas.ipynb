{
  "nbformat": 4,
  "nbformat_minor": 0,
  "metadata": {
    "colab": {
      "name": "Python_Data_Analysis_Part_B_Pandas.ipynb",
      "provenance": []
    },
    "kernelspec": {
      "name": "python3",
      "display_name": "Python 3"
    },
    "accelerator": "GPU"
  },
  "cells": [
    {
      "cell_type": "markdown",
      "metadata": {
        "id": "nCkc0dJAezgi",
        "colab_type": "text"
      },
      "source": [
        "# 基础环境"
      ]
    },
    {
      "cell_type": "code",
      "metadata": {
        "id": "7WxKkSQALPIJ",
        "colab_type": "code",
        "outputId": "ec354986-7cb8-40da-afde-0c4fbe7b1711",
        "colab": {
          "base_uri": "https://localhost:8080/",
          "height": 35
        }
      },
      "source": [
        "import datetime, pytz\n",
        "\n",
        "timezone = pytz.timezone('Asia/Hong_Kong')\n",
        "now = datetime.datetime.now(tz=timezone)\n",
        "print(now.isoformat())"
      ],
      "execution_count": 1,
      "outputs": [
        {
          "output_type": "stream",
          "text": [
            "2020-02-09T05:25:13.544010+08:00\n"
          ],
          "name": "stdout"
        }
      ]
    },
    {
      "cell_type": "code",
      "metadata": {
        "id": "Cgd7kkEtcR8Y",
        "colab_type": "code",
        "outputId": "af2aa9ec-2773-41ff-a723-09694dc69cdd",
        "colab": {
          "base_uri": "https://localhost:8080/",
          "height": 53
        }
      },
      "source": [
        "import platform\n",
        "\n",
        "print(' '.join(platform.linux_distribution()))\n",
        "print('Python version:', platform.python_version())"
      ],
      "execution_count": 2,
      "outputs": [
        {
          "output_type": "stream",
          "text": [
            "Ubuntu 18.04 bionic\n",
            "Python version: 3.6.9\n"
          ],
          "name": "stdout"
        }
      ]
    },
    {
      "cell_type": "code",
      "metadata": {
        "id": "FFrWnq1JcUke",
        "colab_type": "code",
        "outputId": "2f0d3e6f-690e-423c-cf8a-b284e76db64a",
        "colab": {
          "base_uri": "https://localhost:8080/",
          "height": 71
        }
      },
      "source": [
        "import numpy as np\n",
        "import pandas as pd\n",
        "import seaborn as sns\n",
        "\n",
        "print('Numpy   version:', np.__version__)\n",
        "print('Pandas  version:', pd.__version__)\n",
        "print('Seaborn version:', sns.__version__)"
      ],
      "execution_count": 3,
      "outputs": [
        {
          "output_type": "stream",
          "text": [
            "Numpy   version: 1.17.5\n",
            "Pandas  version: 0.25.3\n",
            "Seaborn version: 0.10.0\n"
          ],
          "name": "stdout"
        }
      ]
    },
    {
      "cell_type": "code",
      "metadata": {
        "id": "meycdd2Fjskm",
        "colab_type": "code",
        "outputId": "65cf626e-8328-47f9-a37f-62572fdb2369",
        "colab": {
          "base_uri": "https://localhost:8080/",
          "height": 323
        }
      },
      "source": [
        "!/opt/bin/nvidia-smi"
      ],
      "execution_count": 4,
      "outputs": [
        {
          "output_type": "stream",
          "text": [
            "Sat Feb  8 21:25:18 2020       \n",
            "+-----------------------------------------------------------------------------+\n",
            "| NVIDIA-SMI 418.67       Driver Version: 418.67       CUDA Version: 10.1     |\n",
            "|-------------------------------+----------------------+----------------------+\n",
            "| GPU  Name        Persistence-M| Bus-Id        Disp.A | Volatile Uncorr. ECC |\n",
            "| Fan  Temp  Perf  Pwr:Usage/Cap|         Memory-Usage | GPU-Util  Compute M. |\n",
            "|===============================+======================+======================|\n",
            "|   0  Tesla T4            Off  | 00000000:00:04.0 Off |                    0 |\n",
            "| N/A   40C    P8     9W /  70W |      0MiB / 15079MiB |      0%      Default |\n",
            "+-------------------------------+----------------------+----------------------+\n",
            "                                                                               \n",
            "+-----------------------------------------------------------------------------+\n",
            "| Processes:                                                       GPU Memory |\n",
            "|  GPU       PID   Type   Process name                             Usage      |\n",
            "|=============================================================================|\n",
            "|  No running processes found                                                 |\n",
            "+-----------------------------------------------------------------------------+\n"
          ],
          "name": "stdout"
        }
      ]
    },
    {
      "cell_type": "code",
      "metadata": {
        "id": "lkXWwdEZ0bAW",
        "colab_type": "code",
        "colab": {}
      },
      "source": [
        "import builtins as __builtin__\n",
        "\n",
        "def print(*args, **kwargs):\n",
        "    return __builtin__.print(sep='', end='\\n\\n', *args, **kwargs)"
      ],
      "execution_count": 0,
      "outputs": []
    },
    {
      "cell_type": "markdown",
      "metadata": {
        "id": "RCWv6vQ5e5Dw",
        "colab_type": "text"
      },
      "source": [
        "# Series DataFrame Index"
      ]
    },
    {
      "cell_type": "code",
      "metadata": {
        "id": "YGxxGz6Ac93b",
        "colab_type": "code",
        "outputId": "04f570af-b699-4537-bc60-a95004172b63",
        "colab": {
          "base_uri": "https://localhost:8080/",
          "height": 233
        }
      },
      "source": [
        "a1 = pd.Series([5, 6, 7, 8])\n",
        "\n",
        "print('a1 = \\n', a1)\n",
        "print('a1.values = ', a1.values, \n",
        "      '              ', type(a1.values))\n",
        "print('a1.index  = ', a1.index, \n",
        "      '\\n            ', type(a1.index))"
      ],
      "execution_count": 6,
      "outputs": [
        {
          "output_type": "stream",
          "text": [
            "a1 = \n",
            "0    5\n",
            "1    6\n",
            "2    7\n",
            "3    8\n",
            "dtype: int64\n",
            "\n",
            "a1.values = [5 6 7 8]              <class 'numpy.ndarray'>\n",
            "\n",
            "a1.index  = RangeIndex(start=0, stop=4, step=1)\n",
            "            <class 'pandas.core.indexes.range.RangeIndex'>\n",
            "\n"
          ],
          "name": "stdout"
        }
      ]
    },
    {
      "cell_type": "code",
      "metadata": {
        "id": "igNvYihJe4Jk",
        "colab_type": "code",
        "outputId": "3ce424a2-a087-4659-b240-6d3fc8a27ab7",
        "colab": {
          "base_uri": "https://localhost:8080/",
          "height": 215
        }
      },
      "source": [
        "a2 = pd.Series([5, 6, 7, 8], index=[9, 8, 7, 6])\n",
        "\n",
        "print('a2 = \\n', a2)\n",
        "print('a2.values = ', a2.values)\n",
        "print('a2.index  = ', a2.index)"
      ],
      "execution_count": 7,
      "outputs": [
        {
          "output_type": "stream",
          "text": [
            "a2 = \n",
            "9    5\n",
            "8    6\n",
            "7    7\n",
            "6    8\n",
            "dtype: int64\n",
            "\n",
            "a2.values = [5 6 7 8]\n",
            "\n",
            "a2.index  = Int64Index([9, 8, 7, 6], dtype='int64')\n",
            "\n"
          ],
          "name": "stdout"
        }
      ]
    },
    {
      "cell_type": "code",
      "metadata": {
        "id": "rDsXn2ZGFN04",
        "colab_type": "code",
        "outputId": "85ef1330-518d-40ad-f0e1-343328eb0f30",
        "colab": {
          "base_uri": "https://localhost:8080/",
          "height": 197
        }
      },
      "source": [
        "a3d = {'a': 65, 'b': 66, 'c': 67}\n",
        "a3 = pd.Series(a3d)\n",
        "\n",
        "print('a3 = \\n', a3)\n",
        "print('a3.values = ', a3.values)\n",
        "print('a3.index  = ', a3.index)"
      ],
      "execution_count": 8,
      "outputs": [
        {
          "output_type": "stream",
          "text": [
            "a3 = \n",
            "a    65\n",
            "b    66\n",
            "c    67\n",
            "dtype: int64\n",
            "\n",
            "a3.values = [65 66 67]\n",
            "\n",
            "a3.index  = Index(['a', 'b', 'c'], dtype='object')\n",
            "\n"
          ],
          "name": "stdout"
        }
      ]
    },
    {
      "cell_type": "code",
      "metadata": {
        "id": "7a82LPAEFmlU",
        "colab_type": "code",
        "outputId": "c6b94c45-723b-41ed-990d-2a672cd10d38",
        "colab": {
          "base_uri": "https://localhost:8080/",
          "height": 197
        }
      },
      "source": [
        "a4d = {1: 'a', 3: 'b', 5: 'c', 2: 'd', 4: 'e'}\n",
        "a4 = pd.Series(a4d, index=[1, 4, 5])\n",
        "\n",
        "print('a4 = \\n', a4)\n",
        "print('a4.values = ', a4.values)\n",
        "print('a4.index  = ', a4.index)"
      ],
      "execution_count": 9,
      "outputs": [
        {
          "output_type": "stream",
          "text": [
            "a4 = \n",
            "1    a\n",
            "4    e\n",
            "5    c\n",
            "dtype: object\n",
            "\n",
            "a4.values = ['a' 'e' 'c']\n",
            "\n",
            "a4.index  = Int64Index([1, 4, 5], dtype='int64')\n",
            "\n"
          ],
          "name": "stdout"
        }
      ]
    },
    {
      "cell_type": "code",
      "metadata": {
        "id": "w5kS8wkeF--R",
        "colab_type": "code",
        "outputId": "bf2ca14a-3e60-47ea-ff17-d827f736df21",
        "colab": {
          "base_uri": "https://localhost:8080/",
          "height": 449
        }
      },
      "source": [
        "a5 = pd.Series([11, 22, 33, 44, 55], \n",
        "               index=[2, 3, 4, 5, 6])\n",
        "\n",
        "print('a5 = \\n', a5)\n",
        "print('a5[3] = ', a5[3])\n",
        "print('a5[:3] = \\n', a5[:3])\n",
        "print('a5[:9] = \\n', a5[:9])"
      ],
      "execution_count": 10,
      "outputs": [
        {
          "output_type": "stream",
          "text": [
            "a5 = \n",
            "2    11\n",
            "3    22\n",
            "4    33\n",
            "5    44\n",
            "6    55\n",
            "dtype: int64\n",
            "\n",
            "a5[3] = 22\n",
            "\n",
            "a5[:3] = \n",
            "2    11\n",
            "3    22\n",
            "4    33\n",
            "dtype: int64\n",
            "\n",
            "a5[:9] = \n",
            "2    11\n",
            "3    22\n",
            "4    33\n",
            "5    44\n",
            "6    55\n",
            "dtype: int64\n",
            "\n"
          ],
          "name": "stdout"
        }
      ]
    },
    {
      "cell_type": "code",
      "metadata": {
        "id": "mF8zbpqKHzWi",
        "colab_type": "code",
        "outputId": "5910093a-6728-4982-a8d1-6a01e99b4c74",
        "colab": {
          "base_uri": "https://localhost:8080/",
          "height": 287
        }
      },
      "source": [
        "a6 = pd.Series([11, 22, 33, 44, 55], \n",
        "               index=[1, 9, 5, 6, 3])\n",
        "\n",
        "print('a6 = \\n', a6)\n",
        "print('a6[3] = ', a6[3])\n",
        "print('a6[1:3] = \\n', a6[1:3])"
      ],
      "execution_count": 11,
      "outputs": [
        {
          "output_type": "stream",
          "text": [
            "a6 = \n",
            "1    11\n",
            "9    22\n",
            "5    33\n",
            "6    44\n",
            "3    55\n",
            "dtype: int64\n",
            "\n",
            "a6[3] = 55\n",
            "\n",
            "a6[1:3] = \n",
            "9    22\n",
            "5    33\n",
            "dtype: int64\n",
            "\n"
          ],
          "name": "stdout"
        }
      ]
    },
    {
      "cell_type": "code",
      "metadata": {
        "id": "v0Vqz2R3Iqjp",
        "colab_type": "code",
        "outputId": "c4cdca22-ed5a-464e-d352-f659278ef232",
        "colab": {
          "base_uri": "https://localhost:8080/",
          "height": 287
        }
      },
      "source": [
        "a7d = {'a': 65, 'b': 66, 'd': 68, 'c': 67}\n",
        "a7 = pd.Series(a7d)\n",
        "\n",
        "print('a7 = \\n', a7)\n",
        "print(\"a7['c'] = \", a7['c'])\n",
        "print(\"a7['b':'c'] = \\n\", a7['b':'c'])"
      ],
      "execution_count": 12,
      "outputs": [
        {
          "output_type": "stream",
          "text": [
            "a7 = \n",
            "a    65\n",
            "b    66\n",
            "d    68\n",
            "c    67\n",
            "dtype: int64\n",
            "\n",
            "a7['c'] = 67\n",
            "\n",
            "a7['b':'c'] = \n",
            "b    66\n",
            "d    68\n",
            "c    67\n",
            "dtype: int64\n",
            "\n"
          ],
          "name": "stdout"
        }
      ]
    },
    {
      "cell_type": "code",
      "metadata": {
        "id": "YlUuwFzDJ18i",
        "colab_type": "code",
        "outputId": "38211799-9fac-49da-cab2-51e50205b7e6",
        "colab": {
          "base_uri": "https://localhost:8080/",
          "height": 431
        }
      },
      "source": [
        "a8 = pd.Series([10, 11, 12, 13, 14], \n",
        "               index=[2, 3, 4, 5, 6])\n",
        "\n",
        "print('a8 = \\n', a8)\n",
        "\n",
        "print('a8.loc[3]  = ', a8.loc[3])\n",
        "print('a8.iloc[3] = ', a8.iloc[3])\n",
        "\n",
        "print('a8.loc[2:4] = \\n', a8.loc[2:4])\n",
        "print('a8.iloc[2:4] = \\n', a8.iloc[2:4])"
      ],
      "execution_count": 13,
      "outputs": [
        {
          "output_type": "stream",
          "text": [
            "a8 = \n",
            "2    10\n",
            "3    11\n",
            "4    12\n",
            "5    13\n",
            "6    14\n",
            "dtype: int64\n",
            "\n",
            "a8.loc[3]  = 11\n",
            "\n",
            "a8.iloc[3] = 13\n",
            "\n",
            "a8.loc[2:4] = \n",
            "2    10\n",
            "3    11\n",
            "4    12\n",
            "dtype: int64\n",
            "\n",
            "a8.iloc[2:4] = \n",
            "4    12\n",
            "5    13\n",
            "dtype: int64\n",
            "\n"
          ],
          "name": "stdout"
        }
      ]
    },
    {
      "cell_type": "code",
      "metadata": {
        "id": "gGT4r_lgLy40",
        "colab_type": "code",
        "outputId": "e160bca0-2073-479d-ab7c-f4b3407a92a1",
        "colab": {
          "base_uri": "https://localhost:8080/",
          "height": 161
        }
      },
      "source": [
        "b1s = pd.Series([11, 22, 33, 44, 55], \n",
        "                index=[1, 9, 5, 6, 3])\n",
        "\n",
        "b1 = pd.DataFrame(b1s, columns=['numbers'])\n",
        "print('b1 = \\n', b1)"
      ],
      "execution_count": 14,
      "outputs": [
        {
          "output_type": "stream",
          "text": [
            "b1 = \n",
            "   numbers\n",
            "1       11\n",
            "9       22\n",
            "5       33\n",
            "6       44\n",
            "3       55\n",
            "\n"
          ],
          "name": "stdout"
        }
      ]
    },
    {
      "cell_type": "code",
      "metadata": {
        "id": "wpc3I515OW8_",
        "colab_type": "code",
        "outputId": "b5b3e1bf-384d-4e7b-c199-006e9f3ec88b",
        "colab": {
          "base_uri": "https://localhost:8080/",
          "height": 125
        }
      },
      "source": [
        "b2d = [{'a': 2, 'b': 8}, \n",
        "       {'c': 4, 'b': 1}, \n",
        "       {'a': 2, 'd': 8}]\n",
        "\n",
        "b2 = pd.DataFrame(b2d)\n",
        "print('b2 = \\n', b2)"
      ],
      "execution_count": 15,
      "outputs": [
        {
          "output_type": "stream",
          "text": [
            "b2 = \n",
            "     a    b    c    d\n",
            "0  2.0  8.0  NaN  NaN\n",
            "1  NaN  1.0  4.0  NaN\n",
            "2  2.0  NaN  NaN  8.0\n",
            "\n"
          ],
          "name": "stdout"
        }
      ]
    },
    {
      "cell_type": "code",
      "metadata": {
        "id": "HmaOhOpyPFIe",
        "colab_type": "code",
        "outputId": "724aa1b5-b4e4-4175-cb72-39aa71439a46",
        "colab": {
          "base_uri": "https://localhost:8080/",
          "height": 359
        }
      },
      "source": [
        "b3a = pd.Series([1, 3, 5], index=[1, 3, 4])\n",
        "b3b = pd.Series([2, 4, 6], index=[1, 4, 6])\n",
        "\n",
        "b3 = pd.DataFrame({'A': b3a, 'B': b3b})\n",
        "\n",
        "print('b3a = \\n', b3a)\n",
        "print('b3b = \\n', b3b)\n",
        "print('b3 = \\n', b3)"
      ],
      "execution_count": 16,
      "outputs": [
        {
          "output_type": "stream",
          "text": [
            "b3a = \n",
            "1    1\n",
            "3    3\n",
            "4    5\n",
            "dtype: int64\n",
            "\n",
            "b3b = \n",
            "1    2\n",
            "4    4\n",
            "6    6\n",
            "dtype: int64\n",
            "\n",
            "b3 = \n",
            "     A    B\n",
            "1  1.0  2.0\n",
            "3  3.0  NaN\n",
            "4  5.0  4.0\n",
            "6  NaN  6.0\n",
            "\n"
          ],
          "name": "stdout"
        }
      ]
    },
    {
      "cell_type": "code",
      "metadata": {
        "id": "p9xItXUZQYkx",
        "colab_type": "code",
        "outputId": "ed517de4-111e-4e44-e398-b4b050a55f97",
        "colab": {
          "base_uri": "https://localhost:8080/",
          "height": 395
        }
      },
      "source": [
        "b4 = pd.DataFrame(np.zeros((4, 5)),\n",
        "                  index=['a', 'b', 'c', 'd'],\n",
        "                  columns=['A', 'B', 'C', 'D', 'E'])\n",
        "\n",
        "print('b4 = \\n', b4)\n",
        "\n",
        "print('b4.C = \\n', b4.C)\n",
        "print(\"b4['C'] = \\n\", b4['C'])"
      ],
      "execution_count": 17,
      "outputs": [
        {
          "output_type": "stream",
          "text": [
            "b4 = \n",
            "     A    B    C    D    E\n",
            "a  0.0  0.0  0.0  0.0  0.0\n",
            "b  0.0  0.0  0.0  0.0  0.0\n",
            "c  0.0  0.0  0.0  0.0  0.0\n",
            "d  0.0  0.0  0.0  0.0  0.0\n",
            "\n",
            "b4.C = \n",
            "a    0.0\n",
            "b    0.0\n",
            "c    0.0\n",
            "d    0.0\n",
            "Name: C, dtype: float64\n",
            "\n",
            "b4['C'] = \n",
            "a    0.0\n",
            "b    0.0\n",
            "c    0.0\n",
            "d    0.0\n",
            "Name: C, dtype: float64\n",
            "\n"
          ],
          "name": "stdout"
        }
      ]
    },
    {
      "cell_type": "code",
      "metadata": {
        "id": "mE2klZ7DRl_Q",
        "colab_type": "code",
        "outputId": "85fa1be4-035e-4b95-8bea-93a858d0971a",
        "colab": {
          "base_uri": "https://localhost:8080/",
          "height": 377
        }
      },
      "source": [
        "b5n = np.ones(3, dtype=[('int', 'i8'), ('float', 'f8')])\n",
        "b5 = pd.DataFrame(b5n)\n",
        "\n",
        "print('b5 = \\n', b5)\n",
        "\n",
        "print(\"b5.loc[:1, 'float'] = \\n\", b5.loc[:1, :'float'])\n",
        "print('b5.iloc[:1, :1] = \\n', b5.iloc[:1, :1])\n",
        "\n",
        "print('b5.values = \\n', b5.values)"
      ],
      "execution_count": 18,
      "outputs": [
        {
          "output_type": "stream",
          "text": [
            "b5 = \n",
            "   int  float\n",
            "0    1    1.0\n",
            "1    1    1.0\n",
            "2    1    1.0\n",
            "\n",
            "b5.loc[:1, 'float'] = \n",
            "   int  float\n",
            "0    1    1.0\n",
            "1    1    1.0\n",
            "\n",
            "b5.iloc[:1, :1] = \n",
            "   int\n",
            "0    1\n",
            "\n",
            "b5.values = \n",
            "[[1. 1.]\n",
            " [1. 1.]\n",
            " [1. 1.]]\n",
            "\n"
          ],
          "name": "stdout"
        }
      ]
    },
    {
      "cell_type": "code",
      "metadata": {
        "id": "3gNpwDVQS0Id",
        "colab_type": "code",
        "outputId": "4d7ed84d-4f97-423d-fc04-3fd570a96ac0",
        "colab": {
          "base_uri": "https://localhost:8080/",
          "height": 233
        }
      },
      "source": [
        "c1 = pd.Index([1, 3, 5, 7, 9])\n",
        "\n",
        "print('c1 = ', c1)\n",
        "print('c1[:2]   = ', c1[:2])\n",
        "print('c1.size  = ', c1.size)\n",
        "print('c1.shape = ', c1.shape)\n",
        "print('c1.ndim  = ', c1.ndim)\n",
        "print('c1.dtype = ', c1.dtype)\n"
      ],
      "execution_count": 19,
      "outputs": [
        {
          "output_type": "stream",
          "text": [
            "c1 = Int64Index([1, 3, 5, 7, 9], dtype='int64')\n",
            "\n",
            "c1[:2]   = Int64Index([1, 3], dtype='int64')\n",
            "\n",
            "c1.size  = 5\n",
            "\n",
            "c1.shape = (5,)\n",
            "\n",
            "c1.ndim  = 1\n",
            "\n",
            "c1.dtype = int64\n",
            "\n"
          ],
          "name": "stdout"
        }
      ]
    },
    {
      "cell_type": "code",
      "metadata": {
        "id": "8eHlvwS4XfGd",
        "colab_type": "code",
        "outputId": "21c1ba16-e76e-4685-f6a4-9687774065eb",
        "colab": {
          "base_uri": "https://localhost:8080/",
          "height": 197
        }
      },
      "source": [
        "c2 = pd.Index([1, 2, 3, 4, 5])\n",
        "\n",
        "print('c1 = ', c1)\n",
        "print('c2 = ', c2)\n",
        "\n",
        "print('c1 & c2 = ', c1 & c2)\n",
        "print('c1 | c2 = ', c1 | c2)\n",
        "print('c1 ^ c2 = ', c1 ^ c2)"
      ],
      "execution_count": 20,
      "outputs": [
        {
          "output_type": "stream",
          "text": [
            "c1 = Int64Index([1, 3, 5, 7, 9], dtype='int64')\n",
            "\n",
            "c2 = Int64Index([1, 2, 3, 4, 5], dtype='int64')\n",
            "\n",
            "c1 & c2 = Int64Index([1, 3, 5], dtype='int64')\n",
            "\n",
            "c1 | c2 = Int64Index([1, 2, 3, 4, 5, 7, 9], dtype='int64')\n",
            "\n",
            "c1 ^ c2 = Int64Index([2, 4, 7, 9], dtype='int64')\n",
            "\n"
          ],
          "name": "stdout"
        }
      ]
    },
    {
      "cell_type": "markdown",
      "metadata": {
        "id": "spHCnptYZ_Rr",
        "colab_type": "text"
      },
      "source": [
        "# 运算和缺失值"
      ]
    },
    {
      "cell_type": "code",
      "metadata": {
        "id": "1PnCq9ZwZLxG",
        "colab_type": "code",
        "outputId": "819b4850-e6b7-4edd-ca3d-d6d1268c0f80",
        "colab": {
          "base_uri": "https://localhost:8080/",
          "height": 233
        }
      },
      "source": [
        "d1 = pd.DataFrame(np.random.randint(10, size=(3, 6)),\n",
        "                  columns=['A', 'B', 'C', 'D', 'E', 'F'])\n",
        "d2 = np.square(d1)\n",
        "\n",
        "print('d1 = \\n', d1)\n",
        "print('d2 = \\n', d2)"
      ],
      "execution_count": 21,
      "outputs": [
        {
          "output_type": "stream",
          "text": [
            "d1 = \n",
            "   A  B  C  D  E  F\n",
            "0  6  0  0  8  4  4\n",
            "1  5  0  5  8  7  7\n",
            "2  1  7  0  9  8  3\n",
            "\n",
            "d2 = \n",
            "    A   B   C   D   E   F\n",
            "0  36   0   0  64  16  16\n",
            "1  25   0  25  64  49  49\n",
            "2   1  49   0  81  64   9\n",
            "\n"
          ],
          "name": "stdout"
        }
      ]
    },
    {
      "cell_type": "code",
      "metadata": {
        "id": "fvOb8Ju9cWbW",
        "colab_type": "code",
        "outputId": "4d513cc0-892b-4016-9086-e1273e705325",
        "colab": {
          "base_uri": "https://localhost:8080/",
          "height": 593
        }
      },
      "source": [
        "d3 = pd.DataFrame(np.random.randint(10, size=4), index=[1, 2, 4, 5])\n",
        "d4 = pd.DataFrame(np.random.randint(10, size=4), index=[1, 3, 4, 6])\n",
        "\n",
        "print('d3 = \\n', d3)\n",
        "print('d4 = \\n', d4)\n",
        "\n",
        "print('d3 + d4 = \\n', d3 + d4)\n",
        "print('d3 + d4 = \\n', d3.add(d4, fill_value=100))"
      ],
      "execution_count": 22,
      "outputs": [
        {
          "output_type": "stream",
          "text": [
            "d3 = \n",
            "   0\n",
            "1  0\n",
            "2  7\n",
            "4  2\n",
            "5  8\n",
            "\n",
            "d4 = \n",
            "   0\n",
            "1  2\n",
            "3  7\n",
            "4  8\n",
            "6  0\n",
            "\n",
            "d3 + d4 = \n",
            "      0\n",
            "1   2.0\n",
            "2   NaN\n",
            "3   NaN\n",
            "4  10.0\n",
            "5   NaN\n",
            "6   NaN\n",
            "\n",
            "d3 + d4 = \n",
            "       0\n",
            "1    2.0\n",
            "2  107.0\n",
            "3  107.0\n",
            "4   10.0\n",
            "5  108.0\n",
            "6  100.0\n",
            "\n"
          ],
          "name": "stdout"
        }
      ]
    },
    {
      "cell_type": "code",
      "metadata": {
        "id": "fOArXb60isXc",
        "colab_type": "code",
        "outputId": "c134d723-203d-493a-cbe6-6e03441131b1",
        "colab": {
          "base_uri": "https://localhost:8080/",
          "height": 557
        }
      },
      "source": [
        "d5 = pd.DataFrame(np.random.randint(10, size=(4, 3)), \n",
        "                  index=[1, 2, 4, 5], columns=['A', 'B', 'C'])\n",
        "d6 = pd.DataFrame(np.random.randint(10, size=(4, 3)), \n",
        "                  index=[1, 3, 4, 2], columns=['B', 'C', 'D'])\n",
        "\n",
        "print('d5 = \\n', d5)\n",
        "print('d6 = \\n', d6)\n",
        "\n",
        "print('d5 + d6 = \\n', d5 + d6)\n",
        "print('d5 + d6 = \\n', d5.add(d6, fill_value=100))"
      ],
      "execution_count": 23,
      "outputs": [
        {
          "output_type": "stream",
          "text": [
            "d5 = \n",
            "   A  B  C\n",
            "1  3  1  4\n",
            "2  6  9  3\n",
            "4  8  0  0\n",
            "5  5  1  7\n",
            "\n",
            "d6 = \n",
            "   B  C  D\n",
            "1  9  8  1\n",
            "3  6  8  2\n",
            "4  7  0  2\n",
            "2  6  2  5\n",
            "\n",
            "d5 + d6 = \n",
            "    A     B     C   D\n",
            "1 NaN  10.0  12.0 NaN\n",
            "2 NaN  15.0   5.0 NaN\n",
            "3 NaN   NaN   NaN NaN\n",
            "4 NaN   7.0   0.0 NaN\n",
            "5 NaN   NaN   NaN NaN\n",
            "\n",
            "d5 + d6 = \n",
            "       A      B      C      D\n",
            "1  103.0   10.0   12.0  101.0\n",
            "2  106.0   15.0    5.0  105.0\n",
            "3    NaN  106.0  108.0  102.0\n",
            "4  108.0    7.0    0.0  102.0\n",
            "5  105.0  101.0  107.0    NaN\n",
            "\n"
          ],
          "name": "stdout"
        }
      ]
    },
    {
      "cell_type": "code",
      "metadata": {
        "id": "mvM_Ja2ukgMM",
        "colab_type": "code",
        "outputId": "a21b5f12-67d2-43c9-a3c1-4bc80f97d0ed",
        "colab": {
          "base_uri": "https://localhost:8080/",
          "height": 233
        }
      },
      "source": [
        "d7n = np.random.randint(10, size=(4, 6))\n",
        "\n",
        "print('d7n = \\n', d7n)\n",
        "print('d7n - d7n[0] = \\n', d7n - d7n[0])"
      ],
      "execution_count": 24,
      "outputs": [
        {
          "output_type": "stream",
          "text": [
            "d7n = \n",
            "[[0 8 6 9 5 4]\n",
            " [7 4 9 7 5 7]\n",
            " [6 1 7 8 7 1]\n",
            " [4 9 6 9 3 2]]\n",
            "\n",
            "d7n - d7n[0] = \n",
            "[[ 0  0  0  0  0  0]\n",
            " [ 7 -4  3 -2  0  3]\n",
            " [ 6 -7  1 -1  2 -3]\n",
            " [ 4  1  0  0 -2 -2]]\n",
            "\n"
          ],
          "name": "stdout"
        }
      ]
    },
    {
      "cell_type": "code",
      "metadata": {
        "id": "CDt4js_vlyWR",
        "colab_type": "code",
        "outputId": "4bbc65bd-f41d-4503-d734-e80078f0bc6a",
        "colab": {
          "base_uri": "https://localhost:8080/",
          "height": 395
        }
      },
      "source": [
        "d7 = pd.DataFrame(d7n)\n",
        "\n",
        "d8 = d7 - d7.iloc[0]\n",
        "d9 = d7.subtract(d7[0], axis=0)\n",
        "\n",
        "print('d7 = \\n', d7)\n",
        "print('d8 = \\n', d8)\n",
        "print('d9 = \\n', d9)"
      ],
      "execution_count": 25,
      "outputs": [
        {
          "output_type": "stream",
          "text": [
            "d7 = \n",
            "   0  1  2  3  4  5\n",
            "0  0  8  6  9  5  4\n",
            "1  7  4  9  7  5  7\n",
            "2  6  1  7  8  7  1\n",
            "3  4  9  6  9  3  2\n",
            "\n",
            "d8 = \n",
            "   0  1  2  3  4  5\n",
            "0  0  0  0  0  0  0\n",
            "1  7 -4  3 -2  0  3\n",
            "2  6 -7  1 -1  2 -3\n",
            "3  4  1  0  0 -2 -2\n",
            "\n",
            "d9 = \n",
            "   0  1  2  3  4  5\n",
            "0  0  8  6  9  5  4\n",
            "1  0 -3  2  0 -2  0\n",
            "2  0 -5  1  2  1 -5\n",
            "3  0  5  2  5 -1 -2\n",
            "\n"
          ],
          "name": "stdout"
        }
      ]
    },
    {
      "cell_type": "code",
      "metadata": {
        "id": "tH1RZTOKmgjl",
        "colab_type": "code",
        "outputId": "5b753277-45bc-457d-f69e-e01ebca10056",
        "colab": {
          "base_uri": "https://localhost:8080/",
          "height": 269
        }
      },
      "source": [
        "e1 = np.array([1, 2, 3, np.nan, 5])\n",
        "\n",
        "print('e1 = ', e1)\n",
        "\n",
        "print('np.max(e1) = ', np.max(e1))\n",
        "print('np.min(e1) = ', np.min(e1))\n",
        "print('np.sum(e1) = ', np.sum(e1))\n",
        "\n",
        "print('np.nanmax(e1) = ', np.nanmax(e1))\n",
        "print('np.nanmin(e1) = ', np.nanmin(e1))\n",
        "print('np.nansum(e1) = ', np.nansum(e1))"
      ],
      "execution_count": 26,
      "outputs": [
        {
          "output_type": "stream",
          "text": [
            "e1 = [ 1.  2.  3. nan  5.]\n",
            "\n",
            "np.max(e1) = nan\n",
            "\n",
            "np.min(e1) = nan\n",
            "\n",
            "np.sum(e1) = nan\n",
            "\n",
            "np.nanmax(e1) = 5.0\n",
            "\n",
            "np.nanmin(e1) = 1.0\n",
            "\n",
            "np.nansum(e1) = 11.0\n",
            "\n"
          ],
          "name": "stdout"
        }
      ]
    },
    {
      "cell_type": "code",
      "metadata": {
        "id": "LkhIDxI8oo6a",
        "colab_type": "code",
        "outputId": "c154fa5c-f378-4437-9268-ce6b357b5785",
        "colab": {
          "base_uri": "https://localhost:8080/",
          "height": 557
        }
      },
      "source": [
        "e2 = pd.Series([1, 'b', np.nan, 4, None])\n",
        "\n",
        "print('e2 = \\n', e2)\n",
        "\n",
        "print('e2.isnull() = \\n', e2.isnull())\n",
        "print('e2.notnull() = \\n', e2.notnull())\n",
        "print('e2[e2.notnull()] = \\n', e2[e2.notnull()])"
      ],
      "execution_count": 27,
      "outputs": [
        {
          "output_type": "stream",
          "text": [
            "e2 = \n",
            "0       1\n",
            "1       b\n",
            "2     NaN\n",
            "3       4\n",
            "4    None\n",
            "dtype: object\n",
            "\n",
            "e2.isnull() = \n",
            "0    False\n",
            "1    False\n",
            "2     True\n",
            "3    False\n",
            "4     True\n",
            "dtype: bool\n",
            "\n",
            "e2.notnull() = \n",
            "0     True\n",
            "1     True\n",
            "2    False\n",
            "3     True\n",
            "4    False\n",
            "dtype: bool\n",
            "\n",
            "e2[e2.notnull()] = \n",
            "0    1\n",
            "1    b\n",
            "3    4\n",
            "dtype: object\n",
            "\n"
          ],
          "name": "stdout"
        }
      ]
    },
    {
      "cell_type": "code",
      "metadata": {
        "id": "j8ssnm4NqOXL",
        "colab_type": "code",
        "outputId": "09365fa0-c6ec-43d7-de92-937b43ca1959",
        "colab": {
          "base_uri": "https://localhost:8080/",
          "height": 809
        }
      },
      "source": [
        "e3n = np.array([[1, 2, 3, 4, 5],\n",
        "                [2, np.nan, 6, np.nan, np.nan],\n",
        "                [3, np.nan, 9, 12, 15],\n",
        "                [4, np.nan, 12, 16, 20],\n",
        "                [5, 10, np.nan, 20, np.nan]])\n",
        "e3 = pd.DataFrame(e3n)\n",
        "\n",
        "print('e3 = \\n', e3)\n",
        "\n",
        "print('e3.dropna() = \\n', e3.dropna())\n",
        "print('e3.dropna(axis=1, thresh=4) = \\n', e3.dropna(axis=1, thresh=4))\n",
        "\n",
        "print('e3.fillna(0) =\\n', e3.fillna(0))\n",
        "print(\"e3.fillna(method='ffill') = \\n\", e3.fillna(method='ffill'))\n",
        "print(\"e3.fillna(method='bfill', axis=1) = \\n\", e3.fillna(method='bfill', axis=1))"
      ],
      "execution_count": 28,
      "outputs": [
        {
          "output_type": "stream",
          "text": [
            "e3 = \n",
            "     0     1     2     3     4\n",
            "0  1.0   2.0   3.0   4.0   5.0\n",
            "1  2.0   NaN   6.0   NaN   NaN\n",
            "2  3.0   NaN   9.0  12.0  15.0\n",
            "3  4.0   NaN  12.0  16.0  20.0\n",
            "4  5.0  10.0   NaN  20.0   NaN\n",
            "\n",
            "e3.dropna() = \n",
            "     0    1    2    3    4\n",
            "0  1.0  2.0  3.0  4.0  5.0\n",
            "\n",
            "e3.dropna(axis=1, thresh=4) = \n",
            "     0     2     3\n",
            "0  1.0   3.0   4.0\n",
            "1  2.0   6.0   NaN\n",
            "2  3.0   9.0  12.0\n",
            "3  4.0  12.0  16.0\n",
            "4  5.0   NaN  20.0\n",
            "\n",
            "e3.fillna(0) =\n",
            "     0     1     2     3     4\n",
            "0  1.0   2.0   3.0   4.0   5.0\n",
            "1  2.0   0.0   6.0   0.0   0.0\n",
            "2  3.0   0.0   9.0  12.0  15.0\n",
            "3  4.0   0.0  12.0  16.0  20.0\n",
            "4  5.0  10.0   0.0  20.0   0.0\n",
            "\n",
            "e3.fillna(method='ffill') = \n",
            "     0     1     2     3     4\n",
            "0  1.0   2.0   3.0   4.0   5.0\n",
            "1  2.0   2.0   6.0   4.0   5.0\n",
            "2  3.0   2.0   9.0  12.0  15.0\n",
            "3  4.0   2.0  12.0  16.0  20.0\n",
            "4  5.0  10.0  12.0  20.0  20.0\n",
            "\n",
            "e3.fillna(method='bfill', axis=1) = \n",
            "     0     1     2     3     4\n",
            "0  1.0   2.0   3.0   4.0   5.0\n",
            "1  2.0   6.0   6.0   NaN   NaN\n",
            "2  3.0   9.0   9.0  12.0  15.0\n",
            "3  4.0  12.0  12.0  16.0  20.0\n",
            "4  5.0  10.0  20.0  20.0   NaN\n",
            "\n"
          ],
          "name": "stdout"
        }
      ]
    },
    {
      "cell_type": "markdown",
      "metadata": {
        "id": "ss2v2o9luz1I",
        "colab_type": "text"
      },
      "source": [
        "# 多级索引"
      ]
    },
    {
      "cell_type": "code",
      "metadata": {
        "id": "SgKcS4njrdi8",
        "colab_type": "code",
        "outputId": "4a243eb5-b40d-4ca6-e768-18431f2eb108",
        "colab": {
          "base_uri": "https://localhost:8080/",
          "height": 359
        }
      },
      "source": [
        "f1i = [(1, 'English'), (1, 'Spanish'),\n",
        "       (2, 'English'), (2, 'Spanish'),\n",
        "       (3, 'English'), (3, 'Spanish'),\n",
        "       (4, 'English'), (4, 'Spanish')]\n",
        "f1d = ['one', 'uno', 'two', 'dos', 'three', 'tres', 'four', 'cuatro']\n",
        "\n",
        "f1 = pd.Series(f1d, index=f1i)\n",
        "\n",
        "print('f1 = \\n', f1)\n",
        "\n",
        "print(\"f1[(1, 'Spanish')] = \", f1[(1, 'Spanish')])\n",
        "\n",
        "print(\"f1[(1, 'English'):(2, 'English')] = \\n\", \n",
        "      f1[(1, 'English'):(2, 'English')])"
      ],
      "execution_count": 29,
      "outputs": [
        {
          "output_type": "stream",
          "text": [
            "f1 = \n",
            "(1, English)       one\n",
            "(1, Spanish)       uno\n",
            "(2, English)       two\n",
            "(2, Spanish)       dos\n",
            "(3, English)     three\n",
            "(3, Spanish)      tres\n",
            "(4, English)      four\n",
            "(4, Spanish)    cuatro\n",
            "dtype: object\n",
            "\n",
            "f1[(1, 'Spanish')] = uno\n",
            "\n",
            "f1[(1, 'English'):(2, 'English')] = \n",
            "(1, English)    one\n",
            "(1, Spanish)    uno\n",
            "(2, English)    two\n",
            "dtype: object\n",
            "\n"
          ],
          "name": "stdout"
        }
      ]
    },
    {
      "cell_type": "code",
      "metadata": {
        "id": "b2D7nG0rwz1Q",
        "colab_type": "code",
        "outputId": "d9c8f3c8-67d3-46a5-9a1f-4403f44853f1",
        "colab": {
          "base_uri": "https://localhost:8080/",
          "height": 449
        }
      },
      "source": [
        "f2m = pd.MultiIndex.from_tuples(f1i)\n",
        "f2 = pd.Series(f1d, index=f2m)\n",
        "\n",
        "print('f2m = \\n', f2m)\n",
        "print('f2 = \\n', f2)\n",
        "\n",
        "print(\"f2[2, 'English'] = \", f2[2, 'English'])"
      ],
      "execution_count": 30,
      "outputs": [
        {
          "output_type": "stream",
          "text": [
            "f2m = \n",
            "MultiIndex([(1, 'English'),\n",
            "            (1, 'Spanish'),\n",
            "            (2, 'English'),\n",
            "            (2, 'Spanish'),\n",
            "            (3, 'English'),\n",
            "            (3, 'Spanish'),\n",
            "            (4, 'English'),\n",
            "            (4, 'Spanish')],\n",
            "           )\n",
            "\n",
            "f2 = \n",
            "1  English       one\n",
            "   Spanish       uno\n",
            "2  English       two\n",
            "   Spanish       dos\n",
            "3  English     three\n",
            "   Spanish      tres\n",
            "4  English      four\n",
            "   Spanish    cuatro\n",
            "dtype: object\n",
            "\n",
            "f2[2, 'English'] = two\n",
            "\n"
          ],
          "name": "stdout"
        }
      ]
    },
    {
      "cell_type": "code",
      "metadata": {
        "id": "lkWQ8XgJ4yk7",
        "colab_type": "code",
        "outputId": "4e0402ce-9d11-4ee5-a239-96377798d2fb",
        "colab": {
          "base_uri": "https://localhost:8080/",
          "height": 215
        }
      },
      "source": [
        "f3i = [[1, 1, 2, 2, 3, 3, 4, 4],\n",
        "       ['English', 'Spanish', 'English', 'Spanish', \n",
        "        'English', 'Spanish', 'English', 'Spanish']]\n",
        "\n",
        "f3 = pd.DataFrame(f1d, index=f3i, columns=['Translation'])\n",
        "print('f3 = \\n', f3)"
      ],
      "execution_count": 31,
      "outputs": [
        {
          "output_type": "stream",
          "text": [
            "f3 = \n",
            "          Translation\n",
            "1 English         one\n",
            "  Spanish         uno\n",
            "2 English         two\n",
            "  Spanish         dos\n",
            "3 English       three\n",
            "  Spanish        tres\n",
            "4 English        four\n",
            "  Spanish      cuatro\n",
            "\n"
          ],
          "name": "stdout"
        }
      ]
    },
    {
      "cell_type": "code",
      "metadata": {
        "id": "7kMobyotyzlu",
        "colab_type": "code",
        "outputId": "e6fd7773-af74-41f6-e32b-18b2132b6500",
        "colab": {
          "base_uri": "https://localhost:8080/",
          "height": 431
        }
      },
      "source": [
        "f2d1 = f2.unstack()\n",
        "f2d2 = f2.unstack(level=0)\n",
        "f3s1 = f3.stack()\n",
        "\n",
        "print('f2d1 = \\n', f2d1)\n",
        "print('f2d2 = \\n', f2d2)\n",
        "print('f3s1 = \\n', f3s1)"
      ],
      "execution_count": 32,
      "outputs": [
        {
          "output_type": "stream",
          "text": [
            "f2d1 = \n",
            "  English Spanish\n",
            "1     one     uno\n",
            "2     two     dos\n",
            "3   three    tres\n",
            "4    four  cuatro\n",
            "\n",
            "f2d2 = \n",
            "           1    2      3       4\n",
            "English  one  two  three    four\n",
            "Spanish  uno  dos   tres  cuatro\n",
            "\n",
            "f3s1 = \n",
            "1  English  Translation       one\n",
            "   Spanish  Translation       uno\n",
            "2  English  Translation       two\n",
            "   Spanish  Translation       dos\n",
            "3  English  Translation     three\n",
            "   Spanish  Translation      tres\n",
            "4  English  Translation      four\n",
            "   Spanish  Translation    cuatro\n",
            "dtype: object\n",
            "\n"
          ],
          "name": "stdout"
        }
      ]
    },
    {
      "cell_type": "code",
      "metadata": {
        "id": "Jo1knR-RDOwA",
        "colab_type": "code",
        "outputId": "9d25f68c-8495-40fe-d0ee-afca653c143c",
        "colab": {
          "base_uri": "https://localhost:8080/",
          "height": 629
        }
      },
      "source": [
        "f2r1 = f2.reset_index()\n",
        "f2r3 = f2.reset_index(drop=True)\n",
        "\n",
        "f2r2 = f2r1.set_index(['level_0'])\n",
        "\n",
        "print('f2r1 = \\n', f2r1)\n",
        "print('f2r2 = \\n', f2r2)\n",
        "print('f2r3 = \\n', f2r3)\n"
      ],
      "execution_count": 33,
      "outputs": [
        {
          "output_type": "stream",
          "text": [
            "f2r1 = \n",
            "   level_0  level_1       0\n",
            "0        1  English     one\n",
            "1        1  Spanish     uno\n",
            "2        2  English     two\n",
            "3        2  Spanish     dos\n",
            "4        3  English   three\n",
            "5        3  Spanish    tres\n",
            "6        4  English    four\n",
            "7        4  Spanish  cuatro\n",
            "\n",
            "f2r2 = \n",
            "         level_1       0\n",
            "level_0                 \n",
            "1        English     one\n",
            "1        Spanish     uno\n",
            "2        English     two\n",
            "2        Spanish     dos\n",
            "3        English   three\n",
            "3        Spanish    tres\n",
            "4        English    four\n",
            "4        Spanish  cuatro\n",
            "\n",
            "f2r3 = \n",
            "0       one\n",
            "1       uno\n",
            "2       two\n",
            "3       dos\n",
            "4     three\n",
            "5      tres\n",
            "6      four\n",
            "7    cuatro\n",
            "dtype: object\n",
            "\n"
          ],
          "name": "stdout"
        }
      ]
    },
    {
      "cell_type": "code",
      "metadata": {
        "id": "6k5sh3Z12EqC",
        "colab_type": "code",
        "outputId": "33cc5ec5-e986-4e1e-a6df-cfe3bcf78083",
        "colab": {
          "base_uri": "https://localhost:8080/",
          "height": 665
        }
      },
      "source": [
        "f4m1 = pd.MultiIndex.from_arrays([list('AAABBBCCC'), \n",
        "                                 [1, 2, 3, 1, 2, 3, 1, 2, 3]])\n",
        "f4m2 = pd.MultiIndex.from_tuples([('A', 1), ('A', 2), ('A', 3),\n",
        "                                  ('B', 1), ('B', 2), ('B', 3),\n",
        "                                  ('C', 1), ('C', 2), ('C', 3),])\n",
        "f4m3 = pd.MultiIndex.from_product([['A', 'B', 'C'], [1, 2, 3]])\n",
        "\n",
        "f4m3.names = ['3-1', '3-2']\n",
        "\n",
        "print('f4m1 = \\n', f4m1)\n",
        "print('f4m2 = \\n', f4m2)\n",
        "print('f4m3 = \\n', f4m3)"
      ],
      "execution_count": 34,
      "outputs": [
        {
          "output_type": "stream",
          "text": [
            "f4m1 = \n",
            "MultiIndex([('A', 1),\n",
            "            ('A', 2),\n",
            "            ('A', 3),\n",
            "            ('B', 1),\n",
            "            ('B', 2),\n",
            "            ('B', 3),\n",
            "            ('C', 1),\n",
            "            ('C', 2),\n",
            "            ('C', 3)],\n",
            "           )\n",
            "\n",
            "f4m2 = \n",
            "MultiIndex([('A', 1),\n",
            "            ('A', 2),\n",
            "            ('A', 3),\n",
            "            ('B', 1),\n",
            "            ('B', 2),\n",
            "            ('B', 3),\n",
            "            ('C', 1),\n",
            "            ('C', 2),\n",
            "            ('C', 3)],\n",
            "           )\n",
            "\n",
            "f4m3 = \n",
            "MultiIndex([('A', 1),\n",
            "            ('A', 2),\n",
            "            ('A', 3),\n",
            "            ('B', 1),\n",
            "            ('B', 2),\n",
            "            ('B', 3),\n",
            "            ('C', 1),\n",
            "            ('C', 2),\n",
            "            ('C', 3)],\n",
            "           names=['3-1', '3-2'])\n",
            "\n"
          ],
          "name": "stdout"
        }
      ]
    },
    {
      "cell_type": "code",
      "metadata": {
        "id": "MwMOaDaV7Vz5",
        "colab_type": "code",
        "outputId": "4eae49e4-f112-40e6-ea48-66bf3d260728",
        "colab": {
          "base_uri": "https://localhost:8080/",
          "height": 701
        }
      },
      "source": [
        "f4r = pd.MultiIndex.from_product([['I', 'II', 'III'], ['i', 'ii']])\n",
        "f4c = pd.MultiIndex.from_product([['A', 'B', 'C'], ['a', 'b', 'c']])\n",
        "\n",
        "f4d = np.arange(1, 55).reshape(6, 9)\n",
        "\n",
        "f4 = pd.DataFrame(f4d, index=f4r, columns=f4c)\n",
        "print('f4 = \\n', f4)\n",
        "\n",
        "print(\"f4['B'] = \\n\", f4['B'])\n",
        "print(\"f4['B', 'b'] = \\n\", f4['B', 'b'])\n",
        "print(\"f4['B', 'b']['I', 'i'] = \", f4['B', 'b']['I', 'i'])\n",
        "\n",
        "print(\"f4.loc[pd.IndexSlice[:, 'ii'],\\n\"\n",
        "      \"       pd.IndexSlice['B', :]] = \\n\", \n",
        "      f4.loc[pd.IndexSlice[:, 'ii'], pd.IndexSlice['B', :]])"
      ],
      "execution_count": 35,
      "outputs": [
        {
          "output_type": "stream",
          "text": [
            "f4 = \n",
            "         A           B           C        \n",
            "         a   b   c   a   b   c   a   b   c\n",
            "I   i    1   2   3   4   5   6   7   8   9\n",
            "    ii  10  11  12  13  14  15  16  17  18\n",
            "II  i   19  20  21  22  23  24  25  26  27\n",
            "    ii  28  29  30  31  32  33  34  35  36\n",
            "III i   37  38  39  40  41  42  43  44  45\n",
            "    ii  46  47  48  49  50  51  52  53  54\n",
            "\n",
            "f4['B'] = \n",
            "         a   b   c\n",
            "I   i    4   5   6\n",
            "    ii  13  14  15\n",
            "II  i   22  23  24\n",
            "    ii  31  32  33\n",
            "III i   40  41  42\n",
            "    ii  49  50  51\n",
            "\n",
            "f4['B', 'b'] = \n",
            "I    i      5\n",
            "     ii    14\n",
            "II   i     23\n",
            "     ii    32\n",
            "III  i     41\n",
            "     ii    50\n",
            "Name: (B, b), dtype: int64\n",
            "\n",
            "f4['B', 'b']['I', 'i'] = 5\n",
            "\n",
            "f4.loc[pd.IndexSlice[:, 'ii'],\n",
            "       pd.IndexSlice['B', :]] = \n",
            "         B        \n",
            "         a   b   c\n",
            "I   ii  13  14  15\n",
            "II  ii  31  32  33\n",
            "III ii  49  50  51\n",
            "\n"
          ],
          "name": "stdout"
        }
      ]
    },
    {
      "cell_type": "code",
      "metadata": {
        "id": "coamr6SL81Cq",
        "colab_type": "code",
        "outputId": "337790f5-d1bc-4c7f-d11e-c8ede90c0b4e",
        "colab": {
          "base_uri": "https://localhost:8080/",
          "height": 449
        }
      },
      "source": [
        "f5d = np.arange(11, 100, 11)\n",
        "f5m = pd.MultiIndex.from_product([['A', 'B', 'C'], [1, 2, 3]])\n",
        "\n",
        "f5 = pd.Series(f5d, index=f5m)\n",
        "print('f5 = \\n', f5)\n",
        "\n",
        "print('f5[f5 < 50] = \\n', f5[f5 < 50])\n",
        "print(\"f5[['A', 'C']].loc[:, 2] = \\n\", f5[['A', 'C']].loc[:, 2])"
      ],
      "execution_count": 36,
      "outputs": [
        {
          "output_type": "stream",
          "text": [
            "f5 = \n",
            "A  1    11\n",
            "   2    22\n",
            "   3    33\n",
            "B  1    44\n",
            "   2    55\n",
            "   3    66\n",
            "C  1    77\n",
            "   2    88\n",
            "   3    99\n",
            "dtype: int64\n",
            "\n",
            "f5[f5 < 50] = \n",
            "A  1    11\n",
            "   2    22\n",
            "   3    33\n",
            "B  1    44\n",
            "dtype: int64\n",
            "\n",
            "f5[['A', 'C']].loc[:, 2] = \n",
            "A    22\n",
            "C    88\n",
            "dtype: int64\n",
            "\n"
          ],
          "name": "stdout"
        }
      ]
    },
    {
      "cell_type": "code",
      "metadata": {
        "id": "3jcwwe0g_b3H",
        "colab_type": "code",
        "outputId": "750527ba-227d-499f-8b9e-0c0abdc3601c",
        "colab": {
          "base_uri": "https://localhost:8080/",
          "height": 413
        }
      },
      "source": [
        "f6i = [[4, 4, 1, 1, 3, 3, 2, 2],\n",
        "       ['B', 'A', 'B', 'A', 'B', 'A', 'B', 'A']]\n",
        "\n",
        "f6 = pd.DataFrame(f1d, index=f6i, columns=['demo'])\n",
        "print('f6 = \\n', f6)\n",
        "\n",
        "f7 = f6.sort_index()\n",
        "print('f7 = \\n', f7)"
      ],
      "execution_count": 37,
      "outputs": [
        {
          "output_type": "stream",
          "text": [
            "f6 = \n",
            "       demo\n",
            "4 B     one\n",
            "  A     uno\n",
            "1 B     two\n",
            "  A     dos\n",
            "3 B   three\n",
            "  A    tres\n",
            "2 B    four\n",
            "  A  cuatro\n",
            "\n",
            "f7 = \n",
            "       demo\n",
            "1 A     dos\n",
            "  B     two\n",
            "2 A  cuatro\n",
            "  B    four\n",
            "3 A    tres\n",
            "  B   three\n",
            "4 A     uno\n",
            "  B     one\n",
            "\n"
          ],
          "name": "stdout"
        }
      ]
    },
    {
      "cell_type": "code",
      "metadata": {
        "id": "-WF7_Gt_Cry5",
        "colab_type": "code",
        "outputId": "32f67381-f7f0-4351-83cd-01b88a232191",
        "colab": {
          "base_uri": "https://localhost:8080/",
          "height": 1000
        }
      },
      "source": [
        "f8r = pd.MultiIndex.from_product([['I', 'II', 'III'], ['i', 'ii']],\n",
        "                                 names=['Row_1', 'Row_2'])\n",
        "f8c = pd.MultiIndex.from_product([['A', 'B', 'C'], ['a', 'b', 'c']],\n",
        "                                 names=['Col_1', 'Col_2'])\n",
        "f8d = np.arange(1, 55).reshape(6, 9)\n",
        "\n",
        "f8 = pd.DataFrame(f8d, index=f8r, columns=f8c)\n",
        "print('f8 = \\n', f8)\n",
        "\n",
        "print(\"f8.sum() = \\n\", f8.sum())\n",
        "print(\"f8.sum(level='Row_1') = \\n\", f8.sum(level='Row_1'))\n",
        "print(\"f8.sum(level='Row_2') = \\n\", f8.sum(level='Row_2'))\n",
        "print(\"f8.sum(level='Col_1', axis=1) = \\n\", f8.sum(level='Col_1', axis=1))\n",
        "print(\"f8.sum(level='Col_2', axis=1) = \\n\", f8.sum(level='Col_2', axis=1))"
      ],
      "execution_count": 38,
      "outputs": [
        {
          "output_type": "stream",
          "text": [
            "f8 = \n",
            "Col_1         A           B           C        \n",
            "Col_2         a   b   c   a   b   c   a   b   c\n",
            "Row_1 Row_2                                    \n",
            "I     i       1   2   3   4   5   6   7   8   9\n",
            "      ii     10  11  12  13  14  15  16  17  18\n",
            "II    i      19  20  21  22  23  24  25  26  27\n",
            "      ii     28  29  30  31  32  33  34  35  36\n",
            "III   i      37  38  39  40  41  42  43  44  45\n",
            "      ii     46  47  48  49  50  51  52  53  54\n",
            "\n",
            "f8.sum() = \n",
            "Col_1  Col_2\n",
            "A      a        141\n",
            "       b        147\n",
            "       c        153\n",
            "B      a        159\n",
            "       b        165\n",
            "       c        171\n",
            "C      a        177\n",
            "       b        183\n",
            "       c        189\n",
            "dtype: int64\n",
            "\n",
            "f8.sum(level='Row_1') = \n",
            "Col_1   A           B           C        \n",
            "Col_2   a   b   c   a   b   c   a   b   c\n",
            "Row_1                                    \n",
            "I      11  13  15  17  19  21  23  25  27\n",
            "II     47  49  51  53  55  57  59  61  63\n",
            "III    83  85  87  89  91  93  95  97  99\n",
            "\n",
            "f8.sum(level='Row_2') = \n",
            "Col_1   A           B            C          \n",
            "Col_2   a   b   c   a   b   c    a    b    c\n",
            "Row_2                                       \n",
            "i      57  60  63  66  69  72   75   78   81\n",
            "ii     84  87  90  93  96  99  102  105  108\n",
            "\n",
            "f8.sum(level='Col_1', axis=1) = \n",
            "Col_1          A    B    C\n",
            "Row_1 Row_2               \n",
            "I     i        6   15   24\n",
            "      ii      33   42   51\n",
            "II    i       60   69   78\n",
            "      ii      87   96  105\n",
            "III   i      114  123  132\n",
            "      ii     141  150  159\n",
            "\n",
            "f8.sum(level='Col_2', axis=1) = \n",
            "Col_2          a    b    c\n",
            "Row_1 Row_2               \n",
            "I     i       12   15   18\n",
            "      ii      39   42   45\n",
            "II    i       66   69   72\n",
            "      ii      93   96   99\n",
            "III   i      120  123  126\n",
            "      ii     147  150  153\n",
            "\n"
          ],
          "name": "stdout"
        }
      ]
    },
    {
      "cell_type": "markdown",
      "metadata": {
        "id": "_w4vp6EgXuF3",
        "colab_type": "text"
      },
      "source": [
        "# 数据合并"
      ]
    },
    {
      "cell_type": "code",
      "metadata": {
        "id": "XIgzXYbeWPiN",
        "colab_type": "code",
        "colab": {}
      },
      "source": [
        "def df(column, index):\n",
        "    data = {c:[f'{c}{r}' for r in index] for c in column}\n",
        "    return pd.DataFrame(data, index)"
      ],
      "execution_count": 0,
      "outputs": []
    },
    {
      "cell_type": "code",
      "metadata": {
        "id": "L7mq7AizZTTf",
        "colab_type": "code",
        "outputId": "6a7176c7-d6f2-4f47-a4f9-a10710c29a24",
        "colab": {
          "base_uri": "https://localhost:8080/",
          "height": 395
        }
      },
      "source": [
        "g1a = pd.Series(['A', 'B', 'C'], index=[1, 2, 3])\n",
        "g1b = pd.Series(['D', 'E', 'F'], index=[4, 5, 6])\n",
        "\n",
        "g1 = pd.concat([g1a, g1b])\n",
        "\n",
        "print('g1a = \\n', g1a)\n",
        "print('g1b = \\n', g1b)\n",
        "print('g1 = \\n', g1)"
      ],
      "execution_count": 40,
      "outputs": [
        {
          "output_type": "stream",
          "text": [
            "g1a = \n",
            "1    A\n",
            "2    B\n",
            "3    C\n",
            "dtype: object\n",
            "\n",
            "g1b = \n",
            "4    D\n",
            "5    E\n",
            "6    F\n",
            "dtype: object\n",
            "\n",
            "g1 = \n",
            "1    A\n",
            "2    B\n",
            "3    C\n",
            "4    D\n",
            "5    E\n",
            "6    F\n",
            "dtype: object\n",
            "\n"
          ],
          "name": "stdout"
        }
      ]
    },
    {
      "cell_type": "code",
      "metadata": {
        "id": "JbLJnnRAaOXh",
        "colab_type": "code",
        "outputId": "fe845a42-38c3-469c-d24b-3fee8e9dda1f",
        "colab": {
          "base_uri": "https://localhost:8080/",
          "height": 539
        }
      },
      "source": [
        "g2a = df('ABC', [1, 2, 3])\n",
        "g2b = df('BCD', [3, 4, 5])\n",
        "\n",
        "g2c = pd.concat([g2a, g2b], sort=False)\n",
        "g2d = pd.concat([g2a, g2b], sort=False, axis=1)\n",
        "\n",
        "print('g2a = \\n', g2a)\n",
        "print('g2b = \\n', g2b)\n",
        "print('g2c = \\n', g2c)\n",
        "print('g2d = \\n', g2d)"
      ],
      "execution_count": 41,
      "outputs": [
        {
          "output_type": "stream",
          "text": [
            "g2a = \n",
            "    A   B   C\n",
            "1  A1  B1  C1\n",
            "2  A2  B2  C2\n",
            "3  A3  B3  C3\n",
            "\n",
            "g2b = \n",
            "    B   C   D\n",
            "3  B3  C3  D3\n",
            "4  B4  C4  D4\n",
            "5  B5  C5  D5\n",
            "\n",
            "g2c = \n",
            "     A   B   C    D\n",
            "1   A1  B1  C1  NaN\n",
            "2   A2  B2  C2  NaN\n",
            "3   A3  B3  C3  NaN\n",
            "3  NaN  B3  C3   D3\n",
            "4  NaN  B4  C4   D4\n",
            "5  NaN  B5  C5   D5\n",
            "\n",
            "g2d = \n",
            "     A    B    C    B    C    D\n",
            "1   A1   B1   C1  NaN  NaN  NaN\n",
            "2   A2   B2   C2  NaN  NaN  NaN\n",
            "3   A3   B3   C3   B3   C3   D3\n",
            "4  NaN  NaN  NaN   B4   C4   D4\n",
            "5  NaN  NaN  NaN   B5   C5   D5\n",
            "\n"
          ],
          "name": "stdout"
        }
      ]
    },
    {
      "cell_type": "code",
      "metadata": {
        "id": "CXRzbXDIa8F7",
        "colab_type": "code",
        "outputId": "4460d2e5-d573-442f-c95f-52df4bcf6217",
        "colab": {
          "base_uri": "https://localhost:8080/",
          "height": 359
        }
      },
      "source": [
        "try:\n",
        "    g2d = pd.concat([g2a, g2b], sort=False, axis=1, verify_integrity=True)\n",
        "except ValueError as err:\n",
        "    print(err)\n",
        "\n",
        "g2e = pd.concat([g2a, g2b], sort=False, axis=1, ignore_index=True)\n",
        "g2f = pd.concat([g2a, g2b], sort=False, axis=1, keys=['g2a_part', 'g2b_part'])\n",
        "\n",
        "print('g2e = \\n', g2e)\n",
        "print('g2f = \\n', g2f)"
      ],
      "execution_count": 42,
      "outputs": [
        {
          "output_type": "stream",
          "text": [
            "Indexes have overlapping values: Index(['B', 'C'], dtype='object')\n",
            "\n",
            "g2e = \n",
            "     0    1    2    3    4    5\n",
            "1   A1   B1   C1  NaN  NaN  NaN\n",
            "2   A2   B2   C2  NaN  NaN  NaN\n",
            "3   A3   B3   C3   B3   C3   D3\n",
            "4  NaN  NaN  NaN   B4   C4   D4\n",
            "5  NaN  NaN  NaN   B5   C5   D5\n",
            "\n",
            "g2f = \n",
            "  g2a_part           g2b_part          \n",
            "         A    B    C        B    C    D\n",
            "1       A1   B1   C1      NaN  NaN  NaN\n",
            "2       A2   B2   C2      NaN  NaN  NaN\n",
            "3       A3   B3   C3       B3   C3   D3\n",
            "4      NaN  NaN  NaN       B4   C4   D4\n",
            "5      NaN  NaN  NaN       B5   C5   D5\n",
            "\n"
          ],
          "name": "stdout"
        }
      ]
    },
    {
      "cell_type": "code",
      "metadata": {
        "id": "-bVwcCjYeL5T",
        "colab_type": "code",
        "outputId": "9278d420-b2d1-4257-b076-8eb84f7c12e2",
        "colab": {
          "base_uri": "https://localhost:8080/",
          "height": 665
        }
      },
      "source": [
        "g2g = pd.concat([g2a, g2b], join='inner')\n",
        "g2h = pd.concat([g2a, g2b.reindex(columns=g2a.columns)])\n",
        "\n",
        "g2i = g2a.append(g2b, sort=False)\n",
        "\n",
        "print('g2c = \\n', g2c)\n",
        "print('g2g = \\n', g2g)\n",
        "print('g2h = \\n', g2h)\n",
        "print('g2i = \\n', g2i)"
      ],
      "execution_count": 43,
      "outputs": [
        {
          "output_type": "stream",
          "text": [
            "g2c = \n",
            "     A   B   C    D\n",
            "1   A1  B1  C1  NaN\n",
            "2   A2  B2  C2  NaN\n",
            "3   A3  B3  C3  NaN\n",
            "3  NaN  B3  C3   D3\n",
            "4  NaN  B4  C4   D4\n",
            "5  NaN  B5  C5   D5\n",
            "\n",
            "g2g = \n",
            "    B   C\n",
            "1  B1  C1\n",
            "2  B2  C2\n",
            "3  B3  C3\n",
            "3  B3  C3\n",
            "4  B4  C4\n",
            "5  B5  C5\n",
            "\n",
            "g2h = \n",
            "     A   B   C\n",
            "1   A1  B1  C1\n",
            "2   A2  B2  C2\n",
            "3   A3  B3  C3\n",
            "3  NaN  B3  C3\n",
            "4  NaN  B4  C4\n",
            "5  NaN  B5  C5\n",
            "\n",
            "g2i = \n",
            "     A   B   C    D\n",
            "1   A1  B1  C1  NaN\n",
            "2   A2  B2  C2  NaN\n",
            "3   A3  B3  C3  NaN\n",
            "3  NaN  B3  C3   D3\n",
            "4  NaN  B4  C4   D4\n",
            "5  NaN  B5  C5   D5\n",
            "\n"
          ],
          "name": "stdout"
        }
      ]
    },
    {
      "cell_type": "code",
      "metadata": {
        "id": "YkZOtElVfRvD",
        "colab_type": "code",
        "outputId": "909a7ddc-bc21-432d-ffe6-6a4f50d092ae",
        "colab": {
          "base_uri": "https://localhost:8080/",
          "height": 557
        }
      },
      "source": [
        "h1a = pd.DataFrame({'name': ['Alex', 'Bill', 'Cruz', 'Dean'],\n",
        "                    'group': ['I', 'II', 'III', 'II']})\n",
        "h1b = pd.DataFrame({'name': ['Alex', 'Bill', 'Cruz', 'Dean'],\n",
        "                    'score': [66, 77, 88, 99]})\n",
        "h1c = pd.DataFrame({'group': ['I', 'II', 'III'],\n",
        "                    'leader': ['Liam', 'Max', 'Hank']})\n",
        "h1d = pd.DataFrame({'group': ['I', 'I', 'II', 'II', 'II', 'III', 'III'],\n",
        "                    'subject': ['1.001', '1.003', '2.001', '2.002', '2.016', '3.002', '3.008']})\n",
        "\n",
        "print('h1a = \\n', h1a)\n",
        "print('h1b = \\n', h1b)\n",
        "print('h1c = \\n', h1c)\n",
        "print('h1d = \\n', h1d)"
      ],
      "execution_count": 44,
      "outputs": [
        {
          "output_type": "stream",
          "text": [
            "h1a = \n",
            "   name group\n",
            "0  Alex     I\n",
            "1  Bill    II\n",
            "2  Cruz   III\n",
            "3  Dean    II\n",
            "\n",
            "h1b = \n",
            "   name  score\n",
            "0  Alex     66\n",
            "1  Bill     77\n",
            "2  Cruz     88\n",
            "3  Dean     99\n",
            "\n",
            "h1c = \n",
            "  group leader\n",
            "0     I   Liam\n",
            "1    II    Max\n",
            "2   III   Hank\n",
            "\n",
            "h1d = \n",
            "  group subject\n",
            "0     I   1.001\n",
            "1     I   1.003\n",
            "2    II   2.001\n",
            "3    II   2.002\n",
            "4    II   2.016\n",
            "5   III   3.002\n",
            "6   III   3.008\n",
            "\n"
          ],
          "name": "stdout"
        }
      ]
    },
    {
      "cell_type": "code",
      "metadata": {
        "id": "Hx-l3l4ThFVe",
        "colab_type": "code",
        "outputId": "4729271f-75b3-4f87-bc3a-738ff05c872b",
        "colab": {
          "base_uri": "https://localhost:8080/",
          "height": 503
        }
      },
      "source": [
        "h2a = pd.merge(h1a, h1b)\n",
        "h2b = pd.merge(h1a, h1c)\n",
        "h2c = pd.merge(h1a, h1d)\n",
        "\n",
        "print('h2a = \\n', h2a)\n",
        "print('h2b = \\n', h2b)\n",
        "print('h2c = \\n', h2c)"
      ],
      "execution_count": 45,
      "outputs": [
        {
          "output_type": "stream",
          "text": [
            "h2a = \n",
            "   name group  score\n",
            "0  Alex     I     66\n",
            "1  Bill    II     77\n",
            "2  Cruz   III     88\n",
            "3  Dean    II     99\n",
            "\n",
            "h2b = \n",
            "   name group leader\n",
            "0  Alex     I   Liam\n",
            "1  Bill    II    Max\n",
            "2  Dean    II    Max\n",
            "3  Cruz   III   Hank\n",
            "\n",
            "h2c = \n",
            "   name group subject\n",
            "0  Alex     I   1.001\n",
            "1  Alex     I   1.003\n",
            "2  Bill    II   2.001\n",
            "3  Bill    II   2.002\n",
            "4  Bill    II   2.016\n",
            "5  Dean    II   2.001\n",
            "6  Dean    II   2.002\n",
            "7  Dean    II   2.016\n",
            "8  Cruz   III   3.002\n",
            "9  Cruz   III   3.008\n",
            "\n"
          ],
          "name": "stdout"
        }
      ]
    },
    {
      "cell_type": "code",
      "metadata": {
        "id": "6AL7hH3fqqCV",
        "colab_type": "code",
        "outputId": "3e1d53c7-c1fc-4a1d-9abe-2dc9dba93a0e",
        "colab": {
          "base_uri": "https://localhost:8080/",
          "height": 593
        }
      },
      "source": [
        "h3a = pd.merge(h2a, h2c, on='name')\n",
        "h3b = pd.merge(h2a, h2c, on='group')\n",
        "\n",
        "print('h3a = \\n', h3a)\n",
        "print('h3b = \\n', h3b)"
      ],
      "execution_count": 46,
      "outputs": [
        {
          "output_type": "stream",
          "text": [
            "h3a = \n",
            "   name group_x  score group_y subject\n",
            "0  Alex       I     66       I   1.001\n",
            "1  Alex       I     66       I   1.003\n",
            "2  Bill      II     77      II   2.001\n",
            "3  Bill      II     77      II   2.002\n",
            "4  Bill      II     77      II   2.016\n",
            "5  Cruz     III     88     III   3.002\n",
            "6  Cruz     III     88     III   3.008\n",
            "7  Dean      II     99      II   2.001\n",
            "8  Dean      II     99      II   2.002\n",
            "9  Dean      II     99      II   2.016\n",
            "\n",
            "h3b = \n",
            "   name_x group  score name_y subject\n",
            "0    Alex     I     66   Alex   1.001\n",
            "1    Alex     I     66   Alex   1.003\n",
            "2    Bill    II     77   Bill   2.001\n",
            "3    Bill    II     77   Bill   2.002\n",
            "4    Bill    II     77   Bill   2.016\n",
            "5    Bill    II     77   Dean   2.001\n",
            "6    Bill    II     77   Dean   2.002\n",
            "7    Bill    II     77   Dean   2.016\n",
            "8    Dean    II     99   Bill   2.001\n",
            "9    Dean    II     99   Bill   2.002\n",
            "10   Dean    II     99   Bill   2.016\n",
            "11   Dean    II     99   Dean   2.001\n",
            "12   Dean    II     99   Dean   2.002\n",
            "13   Dean    II     99   Dean   2.016\n",
            "14   Cruz   III     88   Cruz   3.002\n",
            "15   Cruz   III     88   Cruz   3.008\n",
            "\n"
          ],
          "name": "stdout"
        }
      ]
    },
    {
      "cell_type": "code",
      "metadata": {
        "id": "PUaXpFmosq3m",
        "colab_type": "code",
        "outputId": "be9caa81-1d70-481e-8862-c42e1ebed689",
        "colab": {
          "base_uri": "https://localhost:8080/",
          "height": 647
        }
      },
      "source": [
        "h4a = pd.DataFrame({'name': ['Alex', 'Bill', 'Cruz', 'Dean'],\n",
        "                    'group': ['I', 'II', 'III', 'II']})\n",
        "h4b = pd.DataFrame({'names': ['Alex', 'Dean', 'Bill', 'Cruz'],\n",
        "                    'score': [66, 77, 88, 99]})\n",
        "\n",
        "h4 = pd.merge(h4a, h4b, left_index=True, right_index=True)\n",
        "h5 = pd.merge(h4a, h4b, left_on='name', right_on='names')\n",
        "\n",
        "print('h4a = \\n', h4a)\n",
        "print('h4b = \\n', h4b)\n",
        "\n",
        "print('h4 = \\n', h4)\n",
        "print('h5 = \\n', h5)\n",
        "print(\"h5.drop('names', axis=1) = \\n\", h5.drop('names', axis=1))"
      ],
      "execution_count": 47,
      "outputs": [
        {
          "output_type": "stream",
          "text": [
            "h4a = \n",
            "   name group\n",
            "0  Alex     I\n",
            "1  Bill    II\n",
            "2  Cruz   III\n",
            "3  Dean    II\n",
            "\n",
            "h4b = \n",
            "  names  score\n",
            "0  Alex     66\n",
            "1  Dean     77\n",
            "2  Bill     88\n",
            "3  Cruz     99\n",
            "\n",
            "h4 = \n",
            "   name group names  score\n",
            "0  Alex     I  Alex     66\n",
            "1  Bill    II  Dean     77\n",
            "2  Cruz   III  Bill     88\n",
            "3  Dean    II  Cruz     99\n",
            "\n",
            "h5 = \n",
            "   name group names  score\n",
            "0  Alex     I  Alex     66\n",
            "1  Bill    II  Bill     88\n",
            "2  Cruz   III  Cruz     99\n",
            "3  Dean    II  Dean     77\n",
            "\n",
            "h5.drop('names', axis=1) = \n",
            "   name group  score\n",
            "0  Alex     I     66\n",
            "1  Bill    II     88\n",
            "2  Cruz   III     99\n",
            "3  Dean    II     77\n",
            "\n"
          ],
          "name": "stdout"
        }
      ]
    },
    {
      "cell_type": "code",
      "metadata": {
        "id": "qCVaJLz_t9gz",
        "colab_type": "code",
        "outputId": "1ddba19f-df78-4646-b00b-59d5d25133b0",
        "colab": {
          "base_uri": "https://localhost:8080/",
          "height": 989
        }
      },
      "source": [
        "h6a = pd.DataFrame({'name': ['Alex', 'Bill', 'Cruz', 'Dean', 'Eric'],\n",
        "                    'age': [21, 19, 18, 22, 19]})\n",
        "h6b = pd.DataFrame({'name': ['Cruz', 'Dean', 'Eric', 'Ford', 'Grey'],\n",
        "                    'grade': ['A', 'C', 'A', 'A', 'B']})\n",
        "\n",
        "h6 = pd.merge(h6a, h6b)\n",
        "h7a = pd.merge(h6a, h6b, how='inner')\n",
        "h7b = pd.merge(h6a, h6b, how='outer')\n",
        "h7c = pd.merge(h6a, h6b, how='left')\n",
        "h7d = pd.merge(h6a, h6b, how='right')\n",
        "\n",
        "print('h6a = \\n', h6a)\n",
        "print('h6b = \\n', h6b)\n",
        "print('h6 = \\n', h6)\n",
        "\n",
        "print('h7a = \\n', h7a)\n",
        "print('h7b = \\n', h7b)\n",
        "print('h7c = \\n', h7c)\n",
        "print('h7d = \\n', h7d)"
      ],
      "execution_count": 48,
      "outputs": [
        {
          "output_type": "stream",
          "text": [
            "h6a = \n",
            "   name  age\n",
            "0  Alex   21\n",
            "1  Bill   19\n",
            "2  Cruz   18\n",
            "3  Dean   22\n",
            "4  Eric   19\n",
            "\n",
            "h6b = \n",
            "   name grade\n",
            "0  Cruz     A\n",
            "1  Dean     C\n",
            "2  Eric     A\n",
            "3  Ford     A\n",
            "4  Grey     B\n",
            "\n",
            "h6 = \n",
            "   name  age grade\n",
            "0  Cruz   18     A\n",
            "1  Dean   22     C\n",
            "2  Eric   19     A\n",
            "\n",
            "h7a = \n",
            "   name  age grade\n",
            "0  Cruz   18     A\n",
            "1  Dean   22     C\n",
            "2  Eric   19     A\n",
            "\n",
            "h7b = \n",
            "   name   age grade\n",
            "0  Alex  21.0   NaN\n",
            "1  Bill  19.0   NaN\n",
            "2  Cruz  18.0     A\n",
            "3  Dean  22.0     C\n",
            "4  Eric  19.0     A\n",
            "5  Ford   NaN     A\n",
            "6  Grey   NaN     B\n",
            "\n",
            "h7c = \n",
            "   name  age grade\n",
            "0  Alex   21   NaN\n",
            "1  Bill   19   NaN\n",
            "2  Cruz   18     A\n",
            "3  Dean   22     C\n",
            "4  Eric   19     A\n",
            "\n",
            "h7d = \n",
            "   name   age grade\n",
            "0  Cruz  18.0     A\n",
            "1  Dean  22.0     C\n",
            "2  Eric  19.0     A\n",
            "3  Ford   NaN     A\n",
            "4  Grey   NaN     B\n",
            "\n"
          ],
          "name": "stdout"
        }
      ]
    },
    {
      "cell_type": "code",
      "metadata": {
        "id": "fgR-rpNovIkO",
        "colab_type": "code",
        "outputId": "658311db-94dc-483a-b93c-d27dee5fde46",
        "colab": {
          "base_uri": "https://localhost:8080/",
          "height": 521
        }
      },
      "source": [
        "h8a = pd.DataFrame({'name': ['Alex', 'Bill', 'Cruz', 'Dean', 'Eric'],\n",
        "                    'score': [99, 84, 95, 77, 91]})\n",
        "h8b = pd.DataFrame({'name': ['Cruz', 'Dean', 'Eric', 'Ford', 'Grey'],\n",
        "                    'score': [88, 65, 95, 79, 83]})\n",
        "\n",
        "h8c = pd.merge(h8a, h8b, on='name')\n",
        "h8d = pd.merge(h8a, h8b, on='name', suffixes=['_midterm', '_final'])\n",
        "\n",
        "print('h8a = \\n', h8a)\n",
        "print('h8b = \\n', h8b)\n",
        "\n",
        "print('h8c = \\n', h8c)\n",
        "print('h8d = \\n', h8d)"
      ],
      "execution_count": 49,
      "outputs": [
        {
          "output_type": "stream",
          "text": [
            "h8a = \n",
            "   name  score\n",
            "0  Alex     99\n",
            "1  Bill     84\n",
            "2  Cruz     95\n",
            "3  Dean     77\n",
            "4  Eric     91\n",
            "\n",
            "h8b = \n",
            "   name  score\n",
            "0  Cruz     88\n",
            "1  Dean     65\n",
            "2  Eric     95\n",
            "3  Ford     79\n",
            "4  Grey     83\n",
            "\n",
            "h8c = \n",
            "   name  score_x  score_y\n",
            "0  Cruz       95       88\n",
            "1  Dean       77       65\n",
            "2  Eric       91       95\n",
            "\n",
            "h8d = \n",
            "   name  score_midterm  score_final\n",
            "0  Cruz             95           88\n",
            "1  Dean             77           65\n",
            "2  Eric             91           95\n",
            "\n"
          ],
          "name": "stdout"
        }
      ]
    },
    {
      "cell_type": "markdown",
      "metadata": {
        "id": "Av7KkGnfz3Io",
        "colab_type": "text"
      },
      "source": [
        "# 累计和分组"
      ]
    },
    {
      "cell_type": "code",
      "metadata": {
        "id": "K3ztNJu_yzCH",
        "colab_type": "code",
        "outputId": "2ed235e2-9cf9-4a42-98c0-44d293705523",
        "colab": {
          "base_uri": "https://localhost:8080/",
          "height": 161
        }
      },
      "source": [
        "i = sns.load_dataset('planets')\n",
        "\n",
        "print(i.shape, '\\n', i.head())"
      ],
      "execution_count": 50,
      "outputs": [
        {
          "output_type": "stream",
          "text": [
            "(1035, 6)\n",
            "            method  number  orbital_period   mass  distance  year\n",
            "0  Radial Velocity       1         269.300   7.10     77.40  2006\n",
            "1  Radial Velocity       1         874.774   2.21     56.95  2008\n",
            "2  Radial Velocity       1         763.000   2.60     19.84  2011\n",
            "3  Radial Velocity       1         326.030  19.40    110.62  2007\n",
            "4  Radial Velocity       1         516.220  10.50    119.47  2009\n",
            "\n"
          ],
          "name": "stdout"
        }
      ]
    },
    {
      "cell_type": "code",
      "metadata": {
        "id": "e7hQWYd51j6N",
        "colab_type": "code",
        "outputId": "8ff2a945-f60a-40e2-df5e-223d9c729b34",
        "colab": {
          "base_uri": "https://localhost:8080/",
          "height": 377
        }
      },
      "source": [
        "i1a = i.describe()\n",
        "i1b = i.dropna().describe()\n",
        "\n",
        "print(i1a)\n",
        "print(i1b)"
      ],
      "execution_count": 51,
      "outputs": [
        {
          "output_type": "stream",
          "text": [
            "            number  orbital_period        mass     distance         year\n",
            "count  1035.000000      992.000000  513.000000   808.000000  1035.000000\n",
            "mean      1.785507     2002.917596    2.638161   264.069282  2009.070531\n",
            "std       1.240976    26014.728304    3.818617   733.116493     3.972567\n",
            "min       1.000000        0.090706    0.003600     1.350000  1989.000000\n",
            "25%       1.000000        5.442540    0.229000    32.560000  2007.000000\n",
            "50%       1.000000       39.979500    1.260000    55.250000  2010.000000\n",
            "75%       2.000000      526.005000    3.040000   178.500000  2012.000000\n",
            "max       7.000000   730000.000000   25.000000  8500.000000  2014.000000\n",
            "\n",
            "          number  orbital_period        mass    distance         year\n",
            "count  498.00000      498.000000  498.000000  498.000000   498.000000\n",
            "mean     1.73494      835.778671    2.509320   52.068213  2007.377510\n",
            "std      1.17572     1469.128259    3.636274   46.596041     4.167284\n",
            "min      1.00000        1.328300    0.003600    1.350000  1989.000000\n",
            "25%      1.00000       38.272250    0.212500   24.497500  2005.000000\n",
            "50%      1.00000      357.000000    1.245000   39.940000  2009.000000\n",
            "75%      2.00000      999.600000    2.867500   59.332500  2011.000000\n",
            "max      6.00000    17337.500000   25.000000  354.000000  2014.000000\n",
            "\n"
          ],
          "name": "stdout"
        }
      ]
    },
    {
      "cell_type": "code",
      "metadata": {
        "id": "knQAETw2881p",
        "colab_type": "code",
        "outputId": "938c7f68-cb99-46e4-a7ee-824ba2b9fb48",
        "colab": {
          "base_uri": "https://localhost:8080/",
          "height": 305
        }
      },
      "source": [
        "i2d = pd.DataFrame({'name': ['Alex', 'Bill', 'Cruz', 'Alex', 'Bill', 'Cruz'],\n",
        "                    'score': [99, 84, 95, 94, 77, 91]})\n",
        "\n",
        "i2 = i2d.groupby('name').mean()\n",
        "\n",
        "print('i2d = \\n', i2d)\n",
        "print('i2 = \\n', i2)"
      ],
      "execution_count": 52,
      "outputs": [
        {
          "output_type": "stream",
          "text": [
            "i2d = \n",
            "   name  score\n",
            "0  Alex     99\n",
            "1  Bill     84\n",
            "2  Cruz     95\n",
            "3  Alex     94\n",
            "4  Bill     77\n",
            "5  Cruz     91\n",
            "\n",
            "i2 = \n",
            "      score\n",
            "name       \n",
            "Alex   96.5\n",
            "Bill   80.5\n",
            "Cruz   93.0\n",
            "\n"
          ],
          "name": "stdout"
        }
      ]
    },
    {
      "cell_type": "code",
      "metadata": {
        "id": "3-L2dHfL-ZCP",
        "colab_type": "code",
        "outputId": "9fac33e6-0e64-4170-be8b-a26130d3fc3c",
        "colab": {
          "base_uri": "https://localhost:8080/",
          "height": 611
        }
      },
      "source": [
        "print(i.groupby('mass'))\n",
        "print(i.groupby('mass')['year'])\n",
        "print(i.groupby('mass').mean())\n",
        "print(i.groupby('method')['distance'].median())"
      ],
      "execution_count": 53,
      "outputs": [
        {
          "output_type": "stream",
          "text": [
            "<pandas.core.groupby.generic.DataFrameGroupBy object at 0x7fd4326eb9b0>\n",
            "\n",
            "<pandas.core.groupby.generic.SeriesGroupBy object at 0x7fd433798898>\n",
            "\n",
            "          number  orbital_period  distance    year\n",
            "mass                                              \n",
            "0.00360      1.0         3.23570      1.35  2012.0\n",
            "0.00600      4.0         3.14942      6.27  2005.0\n",
            "0.00755      3.0        40.11400      6.06  2011.0\n",
            "0.00800      6.0        50.63300      6.80  2013.0\n",
            "0.00850      3.0        18.31500      6.06  2011.0\n",
            "...          ...             ...       ...     ...\n",
            "19.40000     1.0       326.03000    110.62  2007.0\n",
            "19.80000     1.0       677.80000       NaN  2007.0\n",
            "20.60000     1.0       305.50000     92.51  2013.0\n",
            "21.42000     2.0       379.63000       NaN  2009.0\n",
            "25.00000     1.0      2371.00000     37.05  2008.0\n",
            "\n",
            "[381 rows x 4 columns]\n",
            "\n",
            "method\n",
            "Astrometry                         17.875\n",
            "Eclipse Timing Variations         315.360\n",
            "Imaging                            40.395\n",
            "Microlensing                     3840.000\n",
            "Orbital Brightness Modulation    1180.000\n",
            "Pulsar Timing                    1200.000\n",
            "Pulsation Timing Variations           NaN\n",
            "Radial Velocity                    40.445\n",
            "Transit                           341.000\n",
            "Transit Timing Variations         855.000\n",
            "Name: distance, dtype: float64\n",
            "\n"
          ],
          "name": "stdout"
        }
      ]
    },
    {
      "cell_type": "code",
      "metadata": {
        "id": "85b2w58i_a55",
        "colab_type": "code",
        "outputId": "415a8922-a82d-4d8b-89d3-3d4abf659263",
        "colab": {
          "base_uri": "https://localhost:8080/",
          "height": 197
        }
      },
      "source": [
        "for (method, group) in i.groupby('method'):\n",
        "    __builtin__.print(method, group.shape)"
      ],
      "execution_count": 54,
      "outputs": [
        {
          "output_type": "stream",
          "text": [
            "Astrometry (2, 6)\n",
            "Eclipse Timing Variations (9, 6)\n",
            "Imaging (38, 6)\n",
            "Microlensing (23, 6)\n",
            "Orbital Brightness Modulation (3, 6)\n",
            "Pulsar Timing (5, 6)\n",
            "Pulsation Timing Variations (1, 6)\n",
            "Radial Velocity (553, 6)\n",
            "Transit (397, 6)\n",
            "Transit Timing Variations (4, 6)\n"
          ],
          "name": "stdout"
        }
      ]
    },
    {
      "cell_type": "code",
      "metadata": {
        "id": "Y67MRSUc_4vK",
        "colab_type": "code",
        "outputId": "b9d10847-b34b-4525-f926-27d6945273cf",
        "colab": {
          "base_uri": "https://localhost:8080/",
          "height": 269
        }
      },
      "source": [
        "i3 = i.groupby('method')['year'].describe().unstack()\n",
        "\n",
        "print(i3)"
      ],
      "execution_count": 55,
      "outputs": [
        {
          "output_type": "stream",
          "text": [
            "       method                       \n",
            "count  Astrometry                          2.0\n",
            "       Eclipse Timing Variations           9.0\n",
            "       Imaging                            38.0\n",
            "       Microlensing                       23.0\n",
            "       Orbital Brightness Modulation       3.0\n",
            "                                         ...  \n",
            "max    Pulsar Timing                    2011.0\n",
            "       Pulsation Timing Variations      2007.0\n",
            "       Radial Velocity                  2014.0\n",
            "       Transit                          2014.0\n",
            "       Transit Timing Variations        2014.0\n",
            "Length: 80, dtype: float64\n",
            "\n"
          ],
          "name": "stdout"
        }
      ]
    },
    {
      "cell_type": "code",
      "metadata": {
        "id": "7zVYEBJtAUN9",
        "colab_type": "code",
        "outputId": "992af598-9484-4c3f-fcbd-a142a57924cf",
        "colab": {
          "base_uri": "https://localhost:8080/",
          "height": 467
        }
      },
      "source": [
        "j1 = pd.DataFrame({'key': list('ABCABC'),\n",
        "                   'x': range(1, 7),\n",
        "                   'y': [9, 2, 6, 8, 7, 4]})\n",
        "\n",
        "j1a = j1.groupby('key').aggregate(['min', np.median, np.max])\n",
        "j1b = j1.groupby('key').aggregate({'x': ['min', np.median], 'y':'max'})\n",
        "\n",
        "print('j1 = \\n', j1)\n",
        "print('j1a = \\n', j1a)\n",
        "print('j1b = \\n', j1b)"
      ],
      "execution_count": 56,
      "outputs": [
        {
          "output_type": "stream",
          "text": [
            "j1 = \n",
            "  key  x  y\n",
            "0   A  1  9\n",
            "1   B  2  2\n",
            "2   C  3  6\n",
            "3   A  4  8\n",
            "4   B  5  7\n",
            "5   C  6  4\n",
            "\n",
            "j1a = \n",
            "      x               y            \n",
            "    min median amax min median amax\n",
            "key                                \n",
            "A     1    2.5    4   8    8.5    9\n",
            "B     2    3.5    5   2    4.5    7\n",
            "C     3    4.5    6   4    5.0    6\n",
            "\n",
            "j1b = \n",
            "      x          y\n",
            "    min median max\n",
            "key               \n",
            "A     1    2.5   9\n",
            "B     2    3.5   7\n",
            "C     3    4.5   6\n",
            "\n"
          ],
          "name": "stdout"
        }
      ]
    },
    {
      "cell_type": "code",
      "metadata": {
        "id": "ImX0R96yCwOm",
        "colab_type": "code",
        "outputId": "2e04d052-acd9-46bd-b069-bbb46f437e1b",
        "colab": {
          "base_uri": "https://localhost:8080/",
          "height": 431
        }
      },
      "source": [
        "j2s = j1.groupby('key').std()\n",
        "j2 = j1.groupby('key').filter(lambda z: z['y'].std() < 1.5)\n",
        "\n",
        "print('j1 = \\n', j1)\n",
        "print('j2s = \\n', j2s)\n",
        "print('j2 = \\n', j2)"
      ],
      "execution_count": 57,
      "outputs": [
        {
          "output_type": "stream",
          "text": [
            "j1 = \n",
            "  key  x  y\n",
            "0   A  1  9\n",
            "1   B  2  2\n",
            "2   C  3  6\n",
            "3   A  4  8\n",
            "4   B  5  7\n",
            "5   C  6  4\n",
            "\n",
            "j2s = \n",
            "           x         y\n",
            "key                   \n",
            "A    2.12132  0.707107\n",
            "B    2.12132  3.535534\n",
            "C    2.12132  1.414214\n",
            "\n",
            "j2 = \n",
            "  key  x  y\n",
            "0   A  1  9\n",
            "2   C  3  6\n",
            "3   A  4  8\n",
            "5   C  6  4\n",
            "\n"
          ],
          "name": "stdout"
        }
      ]
    },
    {
      "cell_type": "code",
      "metadata": {
        "id": "emQeTf9VEiQo",
        "colab_type": "code",
        "outputId": "42c4b4b8-9064-4963-e0ab-5d5f83956085",
        "colab": {
          "base_uri": "https://localhost:8080/",
          "height": 341
        }
      },
      "source": [
        "j3 = j1.groupby('key').transform(lambda z: z - z.mean())\n",
        "\n",
        "print('j1 = \\n', j1)\n",
        "print('j3 = \\n', j3)"
      ],
      "execution_count": 58,
      "outputs": [
        {
          "output_type": "stream",
          "text": [
            "j1 = \n",
            "  key  x  y\n",
            "0   A  1  9\n",
            "1   B  2  2\n",
            "2   C  3  6\n",
            "3   A  4  8\n",
            "4   B  5  7\n",
            "5   C  6  4\n",
            "\n",
            "j3 = \n",
            "     x    y\n",
            "0 -1.5  0.5\n",
            "1 -1.5 -2.5\n",
            "2 -1.5  1.0\n",
            "3  1.5 -0.5\n",
            "4  1.5  2.5\n",
            "5  1.5 -1.0\n",
            "\n"
          ],
          "name": "stdout"
        }
      ]
    },
    {
      "cell_type": "code",
      "metadata": {
        "id": "3EyZAjnrGf2v",
        "colab_type": "code",
        "outputId": "35d6740b-67be-45cb-a119-f9dd78696e92",
        "colab": {
          "base_uri": "https://localhost:8080/",
          "height": 341
        }
      },
      "source": [
        "def normalize_y(z):\n",
        "    z['y'] = z['y'] / z['y'].sum()\n",
        "    return z\n",
        "\n",
        "j4 = j1.groupby('key').apply(normalize_y)\n",
        "\n",
        "print('j1 = \\n', j1)\n",
        "print('j4 = \\n', j4)"
      ],
      "execution_count": 59,
      "outputs": [
        {
          "output_type": "stream",
          "text": [
            "j1 = \n",
            "  key  x  y\n",
            "0   A  1  9\n",
            "1   B  2  2\n",
            "2   C  3  6\n",
            "3   A  4  8\n",
            "4   B  5  7\n",
            "5   C  6  4\n",
            "\n",
            "j4 = \n",
            "  key  x         y\n",
            "0   A  1  0.529412\n",
            "1   B  2  0.222222\n",
            "2   C  3  0.600000\n",
            "3   A  4  0.470588\n",
            "4   B  5  0.777778\n",
            "5   C  6  0.400000\n",
            "\n"
          ],
          "name": "stdout"
        }
      ]
    },
    {
      "cell_type": "code",
      "metadata": {
        "id": "zkOijrJFHIPr",
        "colab_type": "code",
        "outputId": "a12eccaa-8b6d-4959-a936-28f6621d2a68",
        "colab": {
          "base_uri": "https://localhost:8080/",
          "height": 737
        }
      },
      "source": [
        "j5l = [0, 2, 1, 1, 0, 1]\n",
        "j5m = {'A': 'alpha', 'B': 'bravo', 'C': 'charlie'}\n",
        "\n",
        "j5a = j1.groupby(j5l).sum()\n",
        "j5b = j1.groupby(j1['key']).sum()\n",
        "\n",
        "j5c = j1.set_index('key').groupby(j5m).sum()\n",
        "j5d = j1.set_index('key').groupby(str.lower).sum()\n",
        "j5e = j1.set_index('key').groupby([str.lower, j5m]).sum()\n",
        "\n",
        "print('j1 = \\n', j1)\n",
        "print('j5a = \\n', j5a)\n",
        "print('j5b = \\n', j5b)\n",
        "print('j5c = \\n', j5c)\n",
        "print('j5d = \\n', j5d)\n",
        "print('j5e = \\n', j5e)"
      ],
      "execution_count": 60,
      "outputs": [
        {
          "output_type": "stream",
          "text": [
            "j1 = \n",
            "  key  x  y\n",
            "0   A  1  9\n",
            "1   B  2  2\n",
            "2   C  3  6\n",
            "3   A  4  8\n",
            "4   B  5  7\n",
            "5   C  6  4\n",
            "\n",
            "j5a = \n",
            "    x   y\n",
            "0   6  16\n",
            "1  13  18\n",
            "2   2   2\n",
            "\n",
            "j5b = \n",
            "     x   y\n",
            "key       \n",
            "A    5  17\n",
            "B    7   9\n",
            "C    9  10\n",
            "\n",
            "j5c = \n",
            "         x   y\n",
            "alpha    5  17\n",
            "bravo    7   9\n",
            "charlie  9  10\n",
            "\n",
            "j5d = \n",
            "   x   y\n",
            "a  5  17\n",
            "b  7   9\n",
            "c  9  10\n",
            "\n",
            "j5e = \n",
            "           x   y\n",
            "a alpha    5  17\n",
            "b bravo    7   9\n",
            "c charlie  9  10\n",
            "\n"
          ],
          "name": "stdout"
        }
      ]
    },
    {
      "cell_type": "markdown",
      "metadata": {
        "id": "y_JtXn6LK1Jq",
        "colab_type": "text"
      },
      "source": [
        "# 透视表 字符串向量化 时间序列"
      ]
    },
    {
      "cell_type": "code",
      "metadata": {
        "id": "-YTo-l8jIpEn",
        "colab_type": "code",
        "outputId": "f6711d43-a8ac-4240-9ccd-31df9b228701",
        "colab": {
          "base_uri": "https://localhost:8080/",
          "height": 197
        }
      },
      "source": [
        "k = sns.load_dataset('titanic')\n",
        "\n",
        "print(k.shape, '\\n', k.head())"
      ],
      "execution_count": 61,
      "outputs": [
        {
          "output_type": "stream",
          "text": [
            "(891, 15)\n",
            "   survived  pclass     sex   age  ...  deck  embark_town  alive  alone\n",
            "0         0       3    male  22.0  ...   NaN  Southampton     no  False\n",
            "1         1       1  female  38.0  ...     C    Cherbourg    yes  False\n",
            "2         1       3  female  26.0  ...   NaN  Southampton    yes   True\n",
            "3         1       1  female  35.0  ...     C  Southampton    yes  False\n",
            "4         0       3    male  35.0  ...   NaN  Southampton     no   True\n",
            "\n",
            "[5 rows x 15 columns]\n",
            "\n"
          ],
          "name": "stdout"
        }
      ]
    },
    {
      "cell_type": "code",
      "metadata": {
        "id": "sQ9k5kIfOKAn",
        "colab_type": "code",
        "outputId": "052016f3-8144-46cf-b137-44d39fb8ce07",
        "colab": {
          "base_uri": "https://localhost:8080/",
          "height": 233
        }
      },
      "source": [
        "k1 = k.groupby('sex')[['survived']].mean()\n",
        "k2 = k.groupby(['sex', 'class'])['survived'].aggregate('mean').unstack()\n",
        "\n",
        "print('k1 = \\n', k1)\n",
        "print('k2 = \\n', k2)"
      ],
      "execution_count": 62,
      "outputs": [
        {
          "output_type": "stream",
          "text": [
            "k1 = \n",
            "        survived\n",
            "sex             \n",
            "female  0.742038\n",
            "male    0.188908\n",
            "\n",
            "k2 = \n",
            "class      First    Second     Third\n",
            "sex                                 \n",
            "female  0.968085  0.921053  0.500000\n",
            "male    0.368852  0.157407  0.135447\n",
            "\n"
          ],
          "name": "stdout"
        }
      ]
    },
    {
      "cell_type": "code",
      "metadata": {
        "id": "G2RSOMRKOkzM",
        "colab_type": "code",
        "outputId": "c897eba1-02fb-44a6-e511-2e958dd8dc6a",
        "colab": {
          "base_uri": "https://localhost:8080/",
          "height": 539
        }
      },
      "source": [
        "k3 = k.pivot_table('survived', index='sex', columns='class')\n",
        "\n",
        "k4c = pd.cut(k['age'], [0, 18, 48, 80])\n",
        "k4 = k.pivot_table('survived', index=['sex', k4c], columns='class')\n",
        "\n",
        "k5c = pd.qcut(k['age'], 3)\n",
        "k5 = k.pivot_table('survived', index=['sex', k5c], columns=['class', 'alone'])\n",
        "\n",
        "print('k3 = \\n', k3)\n",
        "print('k4 = \\n', k4)\n",
        "print('k5 = \\n', k5)"
      ],
      "execution_count": 63,
      "outputs": [
        {
          "output_type": "stream",
          "text": [
            "k3 = \n",
            "class      First    Second     Third\n",
            "sex                                 \n",
            "female  0.968085  0.921053  0.500000\n",
            "male    0.368852  0.157407  0.135447\n",
            "\n",
            "k4 = \n",
            "class               First    Second     Third\n",
            "sex    age                                   \n",
            "female (0, 18]   0.909091  1.000000  0.511628\n",
            "       (18, 48]  0.982456  0.907407  0.413793\n",
            "       (48, 80]  0.941176  0.833333  1.000000\n",
            "male   (0, 18]   0.800000  0.600000  0.215686\n",
            "       (18, 48]  0.437500  0.070423  0.141361\n",
            "       (48, 80]  0.250000  0.076923  0.000000\n",
            "\n",
            "k5 = \n",
            "class                    First            ...     Third          \n",
            "alone                    False     True   ...     False     True \n",
            "sex    age                                ...                    \n",
            "female (0.419, 23.0]  0.944444  1.000000  ...  0.428571  0.625000\n",
            "       (23.0, 34.0]   0.833333  1.000000  ...  0.500000  0.454545\n",
            "       (34.0, 80.0]   1.000000  0.933333  ...  0.230769  0.333333\n",
            "male   (0.419, 23.0]  0.555556  0.000000  ...  0.282051  0.088235\n",
            "       (23.0, 34.0]   0.444444  0.538462  ...  0.058824  0.226667\n",
            "       (34.0, 80.0]   0.379310  0.325000  ...  0.000000  0.068182\n",
            "\n",
            "[6 rows x 6 columns]\n",
            "\n"
          ],
          "name": "stdout"
        }
      ]
    },
    {
      "cell_type": "code",
      "metadata": {
        "id": "rh4Y_YSIQNNg",
        "colab_type": "code",
        "outputId": "4e22c262-8a88-4b20-a332-04a23c6f4f88",
        "colab": {
          "base_uri": "https://localhost:8080/",
          "height": 341
        }
      },
      "source": [
        "k6 = pd.Series(['ALPHA', 'BRAVO', None, 'DELTA', 'ECHO', 'FOXTROT'])\n",
        "\n",
        "print('k6 = \\n', k6)\n",
        "print('k6.str.lower() = \\n', k6.str.lower())"
      ],
      "execution_count": 64,
      "outputs": [
        {
          "output_type": "stream",
          "text": [
            "k6 = \n",
            "0      ALPHA\n",
            "1      BRAVO\n",
            "2       None\n",
            "3      DELTA\n",
            "4       ECHO\n",
            "5    FOXTROT\n",
            "dtype: object\n",
            "\n",
            "k6.str.lower() = \n",
            "0      alpha\n",
            "1      bravo\n",
            "2       None\n",
            "3      delta\n",
            "4       echo\n",
            "5    foxtrot\n",
            "dtype: object\n",
            "\n"
          ],
          "name": "stdout"
        }
      ]
    },
    {
      "cell_type": "code",
      "metadata": {
        "id": "5bVYCMlVSYNP",
        "colab_type": "code",
        "outputId": "fa4910ed-5ccb-47a6-c5dc-8601b03f216f",
        "colab": {
          "base_uri": "https://localhost:8080/",
          "height": 503
        }
      },
      "source": [
        "k6a = k6.str.contains('E[A-z]')\n",
        "k6b = k6.str.match('E[A-z]')\n",
        "k6c = k6.str.extract('([N, T, H].)')\n",
        "\n",
        "print(\"k6a = \\n\", k6a)\n",
        "print(\"k6b = \\n\", k6b)\n",
        "print(\"k6c = \\n\", k6c)"
      ],
      "execution_count": 65,
      "outputs": [
        {
          "output_type": "stream",
          "text": [
            "k6a = \n",
            "0    False\n",
            "1    False\n",
            "2     None\n",
            "3     True\n",
            "4     True\n",
            "5    False\n",
            "dtype: object\n",
            "\n",
            "k6b = \n",
            "0    False\n",
            "1    False\n",
            "2     None\n",
            "3    False\n",
            "4     True\n",
            "5    False\n",
            "dtype: object\n",
            "\n",
            "k6c = \n",
            "     0\n",
            "0   HA\n",
            "1  NaN\n",
            "2  NaN\n",
            "3   TA\n",
            "4   HO\n",
            "5   TR\n",
            "\n"
          ],
          "name": "stdout"
        }
      ]
    },
    {
      "cell_type": "code",
      "metadata": {
        "id": "GzqMNtmgTRwc",
        "colab_type": "code",
        "outputId": "fff71ba7-8373-4531-bd35-617b24397950",
        "colab": {
          "base_uri": "https://localhost:8080/",
          "height": 665
        }
      },
      "source": [
        "k7a = k6.str.slice(1, 3)\n",
        "k7b = k6.str.slice(3)\n",
        "k7c = k6.str.split('O').str.get(-1)\n",
        "k7d = k6.str.cat(k7a)\n",
        "\n",
        "print('k7a = \\n', k7a)\n",
        "print('k7b = \\n', k7b)\n",
        "print('k7c = \\n', k7c)\n",
        "print('k7d = \\n', k7d)"
      ],
      "execution_count": 66,
      "outputs": [
        {
          "output_type": "stream",
          "text": [
            "k7a = \n",
            "0      LP\n",
            "1      RA\n",
            "2    None\n",
            "3      EL\n",
            "4      CH\n",
            "5      OX\n",
            "dtype: object\n",
            "\n",
            "k7b = \n",
            "0      HA\n",
            "1      VO\n",
            "2    None\n",
            "3      TA\n",
            "4       O\n",
            "5    TROT\n",
            "dtype: object\n",
            "\n",
            "k7c = \n",
            "0    ALPHA\n",
            "1         \n",
            "2     None\n",
            "3    DELTA\n",
            "4         \n",
            "5        T\n",
            "dtype: object\n",
            "\n",
            "k7d = \n",
            "0      ALPHALP\n",
            "1      BRAVORA\n",
            "2          NaN\n",
            "3      DELTAEL\n",
            "4       ECHOCH\n",
            "5    FOXTROTOX\n",
            "dtype: object\n",
            "\n"
          ],
          "name": "stdout"
        }
      ]
    },
    {
      "cell_type": "code",
      "metadata": {
        "id": "_VopGwE3Yyld",
        "colab_type": "code",
        "outputId": "ce5995e4-f9ee-432f-a85c-47c6b6f7f8d2",
        "colab": {
          "base_uri": "https://localhost:8080/",
          "height": 341
        }
      },
      "source": [
        "k8 = pd.DataFrame({'x': k6, 'y': ['A|B|C|F', 'B|D', 'C', 'A|D|F', 'E|F', 'B|C|F']})\n",
        "k8d = k8['y'].str.get_dummies('|')\n",
        "\n",
        "print('k8 = \\n', k8)\n",
        "print('k8d = \\n', k8d)"
      ],
      "execution_count": 67,
      "outputs": [
        {
          "output_type": "stream",
          "text": [
            "k8 = \n",
            "         x        y\n",
            "0    ALPHA  A|B|C|F\n",
            "1    BRAVO      B|D\n",
            "2     None        C\n",
            "3    DELTA    A|D|F\n",
            "4     ECHO      E|F\n",
            "5  FOXTROT    B|C|F\n",
            "\n",
            "k8d = \n",
            "   A  B  C  D  E  F\n",
            "0  1  1  1  0  0  1\n",
            "1  0  1  0  1  0  0\n",
            "2  0  0  1  0  0  0\n",
            "3  1  0  0  1  0  1\n",
            "4  0  0  0  0  1  1\n",
            "5  0  1  1  0  0  1\n",
            "\n"
          ],
          "name": "stdout"
        }
      ]
    },
    {
      "cell_type": "code",
      "metadata": {
        "id": "6hDs_vsqbxT-",
        "colab_type": "code",
        "outputId": "84ca7458-3ebc-40b6-b3d6-103adc50ffa2",
        "colab": {
          "base_uri": "https://localhost:8080/",
          "height": 161
        }
      },
      "source": [
        "l1 = np.array('2020-01-31', dtype=np.datetime64)\n",
        "l2 = np.datetime64('2020-02-09 04:26:27.28', 'ns')\n",
        "\n",
        "print('l1 = ', l1)\n",
        "print('l2 = ', l2)\n",
        "print('l1 + np.arange(10) = \\n', l1 + np.arange(10))"
      ],
      "execution_count": 68,
      "outputs": [
        {
          "output_type": "stream",
          "text": [
            "l1 = 2020-01-31\n",
            "\n",
            "l2 = 2020-02-09T04:26:27.280000000\n",
            "\n",
            "l1 + np.arange(10) = \n",
            "['2020-01-31' '2020-02-01' '2020-02-02' '2020-02-03' '2020-02-04'\n",
            " '2020-02-05' '2020-02-06' '2020-02-07' '2020-02-08' '2020-02-09']\n",
            "\n"
          ],
          "name": "stdout"
        }
      ]
    },
    {
      "cell_type": "code",
      "metadata": {
        "id": "0SoR1s3ueG3H",
        "colab_type": "code",
        "outputId": "f74029d0-5d57-418c-da95-75c08fc82b40",
        "colab": {
          "base_uri": "https://localhost:8080/",
          "height": 557
        }
      },
      "source": [
        "l3 = pd.to_datetime('Feb 9, 2020')\n",
        "l4i = l3 + pd.to_timedelta(np.arange(8), 'W')\n",
        "l4 = pd.Series(['Feb Week 2', 'Feb Week 3', 'Feb Week 4', \n",
        "                'Mar Week 1', 'Mar Week 2', 'Mar Week 3',\n",
        "                'Mar Week 4', 'Mar Week 5'], index=l4i)\n",
        "\n",
        "print(l3, l3.strftime(' (%A)'))\n",
        "print('l4i = \\n', l4i)\n",
        "print('l4 = \\n', l4)\n",
        "print(\"l4['2020-2'] = \\n\", l4['2020-2'])\n",
        "print(\"l4['2020-3-1':'2020-3-15'] = \\n\", l4['2020-3-1':'2020-3-15'])\n"
      ],
      "execution_count": 69,
      "outputs": [
        {
          "output_type": "stream",
          "text": [
            "2020-02-09 00:00:00 (Sunday)\n",
            "\n",
            "l4i = \n",
            "DatetimeIndex(['2020-02-09', '2020-02-16', '2020-02-23', '2020-03-01',\n",
            "               '2020-03-08', '2020-03-15', '2020-03-22', '2020-03-29'],\n",
            "              dtype='datetime64[ns]', freq=None)\n",
            "\n",
            "l4 = \n",
            "2020-02-09    Feb Week 2\n",
            "2020-02-16    Feb Week 3\n",
            "2020-02-23    Feb Week 4\n",
            "2020-03-01    Mar Week 1\n",
            "2020-03-08    Mar Week 2\n",
            "2020-03-15    Mar Week 3\n",
            "2020-03-22    Mar Week 4\n",
            "2020-03-29    Mar Week 5\n",
            "dtype: object\n",
            "\n",
            "l4['2020-2'] = \n",
            "2020-02-09    Feb Week 2\n",
            "2020-02-16    Feb Week 3\n",
            "2020-02-23    Feb Week 4\n",
            "dtype: object\n",
            "\n",
            "l4['2020-3-1':'2020-3-15'] = \n",
            "2020-03-01    Mar Week 1\n",
            "2020-03-08    Mar Week 2\n",
            "2020-03-15    Mar Week 3\n",
            "dtype: object\n",
            "\n"
          ],
          "name": "stdout"
        }
      ]
    },
    {
      "cell_type": "code",
      "metadata": {
        "id": "t7pzL-SNfg1b",
        "colab_type": "code",
        "outputId": "ce50f5ce-6752-4c24-8bb2-91ff865ed5f0",
        "colab": {
          "base_uri": "https://localhost:8080/",
          "height": 395
        }
      },
      "source": [
        "l5a = pd.to_datetime([datetime.datetime(2008, 8, 8), '1st of January, 2020',\n",
        "                      '20200202', '2011-11-11', '2 Sep 2019', '9 2 2022',\n",
        "                      'Dec 31 1999', 'January 1 2000'])\n",
        "l5b = l4.to_period('D')\n",
        "l5c = l5a - l1\n",
        "\n",
        "\n",
        "print('l5a = \\n', l5a)\n",
        "print('l5b = \\n', l5b)\n",
        "print('l5c = \\n', l5c)"
      ],
      "execution_count": 70,
      "outputs": [
        {
          "output_type": "stream",
          "text": [
            "l5a = \n",
            "DatetimeIndex(['2008-08-08', '2020-01-01', '2020-02-02', '2011-11-11',\n",
            "               '2019-09-02', '2022-09-02', '1999-12-31', '2000-01-01'],\n",
            "              dtype='datetime64[ns]', freq=None)\n",
            "\n",
            "l5b = \n",
            "2020-02-09    Feb Week 2\n",
            "2020-02-16    Feb Week 3\n",
            "2020-02-23    Feb Week 4\n",
            "2020-03-01    Mar Week 1\n",
            "2020-03-08    Mar Week 2\n",
            "2020-03-15    Mar Week 3\n",
            "2020-03-22    Mar Week 4\n",
            "2020-03-29    Mar Week 5\n",
            "Freq: D, dtype: object\n",
            "\n",
            "l5c = \n",
            "TimedeltaIndex(['-4193 days',   '-30 days',     '2 days', '-3003 days',\n",
            "                 '-151 days',   '945 days', '-7336 days', '-7335 days'],\n",
            "               dtype='timedelta64[ns]', freq=None)\n",
            "\n"
          ],
          "name": "stdout"
        }
      ]
    },
    {
      "cell_type": "code",
      "metadata": {
        "id": "D2qkld3dineZ",
        "colab_type": "code",
        "outputId": "70d365f0-c82e-4e32-fa91-9701a02874ce",
        "colab": {
          "base_uri": "https://localhost:8080/",
          "height": 197
        }
      },
      "source": [
        "l6a = pd.date_range('20190901', '20200111', periods=4)\n",
        "l6b = pd.date_range('2019-12-12', '2020-8-8', freq='M')\n",
        "l6c = pd.period_range('1999-9-9', periods=5, freq='Y')\n",
        "l6d = pd.timedelta_range(0, periods=3, freq='H')\n",
        "\n",
        "print('l6a = ', l6a)\n",
        "print('l6b = ', l6b)\n",
        "print('l6c = ', l6c)\n",
        "print('l6d = ', l6d)"
      ],
      "execution_count": 71,
      "outputs": [
        {
          "output_type": "stream",
          "text": [
            "l6a = DatetimeIndex(['2019-09-01', '2019-10-15', '2019-11-28', '2020-01-11'], dtype='datetime64[ns]', freq=None)\n",
            "\n",
            "l6b = DatetimeIndex(['2019-12-31', '2020-01-31', '2020-02-29', '2020-03-31',\n",
            "               '2020-04-30', '2020-05-31', '2020-06-30', '2020-07-31'],\n",
            "              dtype='datetime64[ns]', freq='M')\n",
            "\n",
            "l6c = PeriodIndex(['1999', '2000', '2001', '2002', '2003'], dtype='period[A-DEC]', freq='A-DEC')\n",
            "\n",
            "l6d = TimedeltaIndex(['00:00:00', '01:00:00', '02:00:00'], dtype='timedelta64[ns]', freq='H')\n",
            "\n"
          ],
          "name": "stdout"
        }
      ]
    }
  ]
}