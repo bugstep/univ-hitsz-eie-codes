{
  "nbformat": 4,
  "nbformat_minor": 0,
  "metadata": {
    "colab": {
      "name": "Python_Data_Analysis_Part_A_NumPy.ipynb",
      "provenance": []
    },
    "kernelspec": {
      "name": "python3",
      "display_name": "Python 3"
    },
    "accelerator": "GPU"
  },
  "cells": [
    {
      "cell_type": "markdown",
      "metadata": {
        "id": "nwQLk-9VeeFv",
        "colab_type": "text"
      },
      "source": [
        "# 基础环境"
      ]
    },
    {
      "cell_type": "code",
      "metadata": {
        "id": "INQAjLYglFgi",
        "colab_type": "code",
        "outputId": "51d91121-63c3-4e34-de4c-f0219bbb5424",
        "colab": {
          "base_uri": "https://localhost:8080/",
          "height": 53
        }
      },
      "source": [
        "import platform\n",
        "\n",
        "print(' '.join(platform.linux_distribution()))\n",
        "print('Python version:', platform.python_version())"
      ],
      "execution_count": 1,
      "outputs": [
        {
          "output_type": "stream",
          "text": [
            "Ubuntu 18.04 bionic\n",
            "Python version: 3.6.9\n"
          ],
          "name": "stdout"
        }
      ]
    },
    {
      "cell_type": "code",
      "metadata": {
        "id": "bLCpHt4Zoj0b",
        "colab_type": "code",
        "outputId": "8369edcd-705b-43f4-d237-c7a8d1f84257",
        "colab": {
          "base_uri": "https://localhost:8080/",
          "height": 35
        }
      },
      "source": [
        "import numpy as np\n",
        "\n",
        "print('NumPy version:', np.__version__)"
      ],
      "execution_count": 2,
      "outputs": [
        {
          "output_type": "stream",
          "text": [
            "NumPy version: 1.17.5\n"
          ],
          "name": "stdout"
        }
      ]
    },
    {
      "cell_type": "code",
      "metadata": {
        "id": "vwg4RLnnFQH2",
        "colab_type": "code",
        "colab": {
          "base_uri": "https://localhost:8080/",
          "height": 323
        },
        "outputId": "94278354-9320-4d7c-ae82-34b0237fab7d"
      },
      "source": [
        "!/opt/bin/nvidia-smi"
      ],
      "execution_count": 3,
      "outputs": [
        {
          "output_type": "stream",
          "text": [
            "Sat Feb  8 14:24:27 2020       \n",
            "+-----------------------------------------------------------------------------+\n",
            "| NVIDIA-SMI 418.67       Driver Version: 418.67       CUDA Version: 10.1     |\n",
            "|-------------------------------+----------------------+----------------------+\n",
            "| GPU  Name        Persistence-M| Bus-Id        Disp.A | Volatile Uncorr. ECC |\n",
            "| Fan  Temp  Perf  Pwr:Usage/Cap|         Memory-Usage | GPU-Util  Compute M. |\n",
            "|===============================+======================+======================|\n",
            "|   0  Tesla T4            Off  | 00000000:00:04.0 Off |                    0 |\n",
            "| N/A   36C    P8     9W /  70W |      0MiB / 15079MiB |      0%      Default |\n",
            "+-------------------------------+----------------------+----------------------+\n",
            "                                                                               \n",
            "+-----------------------------------------------------------------------------+\n",
            "| Processes:                                                       GPU Memory |\n",
            "|  GPU       PID   Type   Process name                             Usage      |\n",
            "|=============================================================================|\n",
            "|  No running processes found                                                 |\n",
            "+-----------------------------------------------------------------------------+\n"
          ],
          "name": "stdout"
        }
      ]
    },
    {
      "cell_type": "code",
      "metadata": {
        "id": "_il_gYkIFSDE",
        "colab_type": "code",
        "colab": {}
      },
      "source": [
        "import builtins as __builtin__\n",
        "\n",
        "def print(*args, **kwargs):\n",
        "    return __builtin__.print(sep='', end='\\n\\n', *args, **kwargs)"
      ],
      "execution_count": 0,
      "outputs": []
    },
    {
      "cell_type": "code",
      "metadata": {
        "id": "o1LRw49k3aFD",
        "colab_type": "code",
        "colab": {}
      },
      "source": [
        "def namestr(obj, namespace):\n",
        "    return [name for name in namespace if namespace[name] is obj]"
      ],
      "execution_count": 0,
      "outputs": []
    },
    {
      "cell_type": "markdown",
      "metadata": {
        "id": "bhxroiv-dXLm",
        "colab_type": "text"
      },
      "source": [
        "# 数据类型 数组基础"
      ]
    },
    {
      "cell_type": "code",
      "metadata": {
        "id": "POalvIjRneK0",
        "colab_type": "code",
        "outputId": "c3382420-1a80-4c89-b119-df52bd2a0ef6",
        "colab": {
          "base_uri": "https://localhost:8080/",
          "height": 575
        }
      },
      "source": [
        "a1 = np.random.randint(100, size=10)\n",
        "a2 = np.random.randint(100, size=(4, 6))\n",
        "a3 = np.random.randint(100, size=(2, 5, 6))\n",
        "\n",
        "for a in [a1, a2, a3]:\n",
        "    print(sorted(namestr(a, globals()))[-1], ' = \\n', a)\n",
        "    print(f\"dtype={a.dtype}, ndim={a.ndim}, shape={a.shape}, \"\n",
        "          f\"size={a.size}, itemsize={a.itemsize}, nbytes={a.nbytes}\\n\")"
      ],
      "execution_count": 6,
      "outputs": [
        {
          "output_type": "stream",
          "text": [
            "a1 = \n",
            "[35 46 18 43 64 88 70 56 69 97]\n",
            "\n",
            "dtype=int64, ndim=1, shape=(10,), size=10, itemsize=8, nbytes=80\n",
            "\n",
            "\n",
            "a2 = \n",
            "[[99 43 96 16 17 79]\n",
            " [29 22 55  2 97 63]\n",
            " [71 87 37 37 79 52]\n",
            " [90 51 40 30 21 22]]\n",
            "\n",
            "dtype=int64, ndim=2, shape=(4, 6), size=24, itemsize=8, nbytes=192\n",
            "\n",
            "\n",
            "a3 = \n",
            "[[[88 16 20 16 70 14]\n",
            "  [27 95 18 81 56 60]\n",
            "  [79 96 60 31 16 27]\n",
            "  [27 64 45 43  6 38]\n",
            "  [60  2 74 27  2 85]]\n",
            "\n",
            " [[87 24 83 98 29 40]\n",
            "  [81 49 90 92 53 89]\n",
            "  [88 33 18 12 53 49]\n",
            "  [37 59 86 74  3 29]\n",
            "  [60 33 77 56 30 83]]]\n",
            "\n",
            "dtype=int64, ndim=3, shape=(2, 5, 6), size=60, itemsize=8, nbytes=480\n",
            "\n",
            "\n"
          ],
          "name": "stdout"
        }
      ]
    },
    {
      "cell_type": "code",
      "metadata": {
        "id": "e5BzwCwAqerg",
        "colab_type": "code",
        "outputId": "d9a2edfb-ef65-4616-ae3f-77ed24b69cdd",
        "colab": {
          "base_uri": "https://localhost:8080/",
          "height": 161
        }
      },
      "source": [
        "b1 = np.empty(4)\n",
        "b2 = np.zeros(10)\n",
        "b3 = np.ones(10)\n",
        "b4 = np.arange(1, 11)\n",
        "b5 = np.arange(11, 21)\n",
        "\n",
        "for b in [b1, b2, b3, b4]:\n",
        "    print(sorted(namestr(b, globals()))[-1], ' = ', b)"
      ],
      "execution_count": 7,
      "outputs": [
        {
          "output_type": "stream",
          "text": [
            "b1 = [5.e-324 5.e-324 5.e-324 0.e+000]\n",
            "\n",
            "b2 = [0. 0. 0. 0. 0. 0. 0. 0. 0. 0.]\n",
            "\n",
            "b3 = [1. 1. 1. 1. 1. 1. 1. 1. 1. 1.]\n",
            "\n",
            "b4 = [ 1  2  3  4  5  6  7  8  9 10]\n",
            "\n"
          ],
          "name": "stdout"
        }
      ]
    },
    {
      "cell_type": "code",
      "metadata": {
        "id": "g5xcy9Hzq5GI",
        "colab_type": "code",
        "outputId": "ed82af4f-c6b0-4853-d13e-f07e59084b1f",
        "colab": {
          "base_uri": "https://localhost:8080/",
          "height": 413
        }
      },
      "source": [
        "print('a1 = ', a1)\n",
        "print('a1[1]  = ', a1[1])\n",
        "print('a1[-1] = ', a1[-1])\n",
        "\n",
        "print('a2 = \\n', a2)\n",
        "print('a2[1]     = ', a2[1])\n",
        "print('a2[-1]    = ', a2[-1])\n",
        "print('a2[-1, :] = ', a2[-1, :])\n",
        "print('a2[:, 1]  = ', a2[:, 1])\n",
        "print('a2[-1, 3] = ', a2[-1, 3])"
      ],
      "execution_count": 8,
      "outputs": [
        {
          "output_type": "stream",
          "text": [
            "a1 = [35 46 18 43 64 88 70 56 69 97]\n",
            "\n",
            "a1[1]  = 46\n",
            "\n",
            "a1[-1] = 97\n",
            "\n",
            "a2 = \n",
            "[[99 43 96 16 17 79]\n",
            " [29 22 55  2 97 63]\n",
            " [71 87 37 37 79 52]\n",
            " [90 51 40 30 21 22]]\n",
            "\n",
            "a2[1]     = [29 22 55  2 97 63]\n",
            "\n",
            "a2[-1]    = [90 51 40 30 21 22]\n",
            "\n",
            "a2[-1, :] = [90 51 40 30 21 22]\n",
            "\n",
            "a2[:, 1]  = [43 22 87 51]\n",
            "\n",
            "a2[-1, 3] = 30\n",
            "\n"
          ],
          "name": "stdout"
        }
      ]
    },
    {
      "cell_type": "code",
      "metadata": {
        "id": "BOCKTQYyrNo3",
        "colab_type": "code",
        "outputId": "ce7f0410-59a2-4caa-cfd1-e47efbfa12a8",
        "colab": {
          "base_uri": "https://localhost:8080/",
          "height": 575
        }
      },
      "source": [
        "print('b5   = ', b5)\n",
        "print('b5[2:]     = ', b5[2:])\n",
        "print('b5[2:5]    = ', b5[2:5])\n",
        "print('b5[2:5:2]  = ', b5[2:5:2])\n",
        "print('b5[2::2]   = ', b5[2::2])\n",
        "print('b5[:-5:-1] = ', b5[:-5:-1])\n",
        "\n",
        "print('a2 = \\n', a2)\n",
        "print('a2[1:3, 1:3] = \\n', a2[1:3, 1:3])\n",
        "print('a2[::-1, 1] = \\n', a2[::-1, 1])\n",
        "print('a2[::-1, ::-1] = \\n', a2[::-1, ::-1])"
      ],
      "execution_count": 9,
      "outputs": [
        {
          "output_type": "stream",
          "text": [
            "b5   = [11 12 13 14 15 16 17 18 19 20]\n",
            "\n",
            "b5[2:]     = [13 14 15 16 17 18 19 20]\n",
            "\n",
            "b5[2:5]    = [13 14 15]\n",
            "\n",
            "b5[2:5:2]  = [13 15]\n",
            "\n",
            "b5[2::2]   = [13 15 17 19]\n",
            "\n",
            "b5[:-5:-1] = [20 19 18 17]\n",
            "\n",
            "a2 = \n",
            "[[99 43 96 16 17 79]\n",
            " [29 22 55  2 97 63]\n",
            " [71 87 37 37 79 52]\n",
            " [90 51 40 30 21 22]]\n",
            "\n",
            "a2[1:3, 1:3] = \n",
            "[[22 55]\n",
            " [87 37]]\n",
            "\n",
            "a2[::-1, 1] = \n",
            "[51 87 22 43]\n",
            "\n",
            "a2[::-1, ::-1] = \n",
            "[[22 21 30 40 51 90]\n",
            " [52 79 37 37 87 71]\n",
            " [63 97  2 55 22 29]\n",
            " [79 17 16 96 43 99]]\n",
            "\n"
          ],
          "name": "stdout"
        }
      ]
    },
    {
      "cell_type": "code",
      "metadata": {
        "id": "hrG2B6tItlNy",
        "colab_type": "code",
        "outputId": "8536d09f-fd95-4a7f-a19e-2fae2f8f92f2",
        "colab": {
          "base_uri": "https://localhost:8080/",
          "height": 197
        }
      },
      "source": [
        "b5a = b5[::-1]\n",
        "b5b = b5a[:5].copy()\n",
        "\n",
        "for b in [b5a, b5b]:\n",
        "    print(sorted(namestr(b, globals()))[-1], ' = ', b)\n",
        "\n",
        "b5a[3] = 7\n",
        "b5b[2] = 8\n",
        "\n",
        "for b in [b5a, b5b, b5]:\n",
        "    print(sorted(namestr(b, globals()))[-1], ' = ', b)"
      ],
      "execution_count": 10,
      "outputs": [
        {
          "output_type": "stream",
          "text": [
            "b5a = [20 19 18 17 16 15 14 13 12 11]\n",
            "\n",
            "b5b = [20 19 18 17 16]\n",
            "\n",
            "b5a = [20 19 18  7 16 15 14 13 12 11]\n",
            "\n",
            "b5b = [20 19  8 17 16]\n",
            "\n",
            "b5 = [11 12 13 14 15 16  7 18 19 20]\n",
            "\n"
          ],
          "name": "stdout"
        }
      ]
    },
    {
      "cell_type": "code",
      "metadata": {
        "id": "eDaEoSK-u-xK",
        "colab_type": "code",
        "outputId": "856f8a14-7120-4f8d-8b28-804d32726c72",
        "colab": {
          "base_uri": "https://localhost:8080/",
          "height": 467
        }
      },
      "source": [
        "print('b4 = \\n', b4)\n",
        "\n",
        "b4 = b4.reshape(2, 5)\n",
        "print('b4 = \\n', b4)\n",
        "\n",
        "b4 = b4.flatten()\n",
        "\n",
        "b4a = b4[np.newaxis, :]\n",
        "b4b = b4[:, np.newaxis]\n",
        "\n",
        "for b in [b4, b4a, b4b]:\n",
        "    print(sorted(namestr(b, globals()))[-1], ' =   ', \n",
        "          b.shape, '\\n', b)"
      ],
      "execution_count": 11,
      "outputs": [
        {
          "output_type": "stream",
          "text": [
            "b4 = \n",
            "[ 1  2  3  4  5  6  7  8  9 10]\n",
            "\n",
            "b4 = \n",
            "[[ 1  2  3  4  5]\n",
            " [ 6  7  8  9 10]]\n",
            "\n",
            "b4 =   (10,)\n",
            "[ 1  2  3  4  5  6  7  8  9 10]\n",
            "\n",
            "b4a =   (1, 10)\n",
            "[[ 1  2  3  4  5  6  7  8  9 10]]\n",
            "\n",
            "b4b =   (10, 1)\n",
            "[[ 1]\n",
            " [ 2]\n",
            " [ 3]\n",
            " [ 4]\n",
            " [ 5]\n",
            " [ 6]\n",
            " [ 7]\n",
            " [ 8]\n",
            " [ 9]\n",
            " [10]]\n",
            "\n"
          ],
          "name": "stdout"
        }
      ]
    },
    {
      "cell_type": "code",
      "metadata": {
        "id": "4qu7AR90yBdv",
        "colab_type": "code",
        "outputId": "9ee79b35-7a10-4c47-9269-1c0d65c4cfc4",
        "colab": {
          "base_uri": "https://localhost:8080/",
          "height": 593
        }
      },
      "source": [
        "c1 = np.arange(10)\n",
        "c2 = np.arange(5, 10)\n",
        "\n",
        "c3 = np.concatenate([c1, c2])\n",
        "c4 = np.concatenate([c1, c3, c2])\n",
        "\n",
        "c5 = np.concatenate([c1.reshape(2, 5), c2[np.newaxis]])  # axis=0)\n",
        "c6 = np.concatenate([c1.reshape(5, 2), c2[:, np.newaxis]], axis=1)\n",
        "\n",
        "c7 = np.vstack([c1.reshape(2, 5), c2[np.newaxis, :]])\n",
        "c8 = np.hstack([c1.reshape(5, 2), c2[:, np.newaxis]])\n",
        "\n",
        "for c in [c1, c2, c3, c4]:\n",
        "    print(sorted(namestr(c, globals()))[-1], ' = ', c)\n",
        "\n",
        "for c in [c5, c6, c7, c8]:\n",
        "    print(sorted(namestr(c, globals()))[-1], ' = \\n', c)"
      ],
      "execution_count": 12,
      "outputs": [
        {
          "output_type": "stream",
          "text": [
            "c1 = [0 1 2 3 4 5 6 7 8 9]\n",
            "\n",
            "c2 = [5 6 7 8 9]\n",
            "\n",
            "c3 = [0 1 2 3 4 5 6 7 8 9 5 6 7 8 9]\n",
            "\n",
            "c4 = [0 1 2 3 4 5 6 7 8 9 0 1 2 3 4 5 6 7 8 9 5 6 7 8 9 5 6 7 8 9]\n",
            "\n",
            "c5 = \n",
            "[[0 1 2 3 4]\n",
            " [5 6 7 8 9]\n",
            " [5 6 7 8 9]]\n",
            "\n",
            "c6 = \n",
            "[[0 1 5]\n",
            " [2 3 6]\n",
            " [4 5 7]\n",
            " [6 7 8]\n",
            " [8 9 9]]\n",
            "\n",
            "c7 = \n",
            "[[0 1 2 3 4]\n",
            " [5 6 7 8 9]\n",
            " [5 6 7 8 9]]\n",
            "\n",
            "c8 = \n",
            "[[0 1 5]\n",
            " [2 3 6]\n",
            " [4 5 7]\n",
            " [6 7 8]\n",
            " [8 9 9]]\n",
            "\n"
          ],
          "name": "stdout"
        }
      ]
    },
    {
      "cell_type": "code",
      "metadata": {
        "id": "clLjupTK0d7-",
        "colab_type": "code",
        "outputId": "00d1a8c8-ff68-4708-fede-50ba78805b60",
        "colab": {
          "base_uri": "https://localhost:8080/",
          "height": 845
        }
      },
      "source": [
        "d1 = np.arange(54).reshape(6, 9)\n",
        "\n",
        "d2, d3 = np.split(d1, [2])\n",
        "d4, d5, d6 = np.split(d1, [2, 4])\n",
        "\n",
        "d7, d8 = np.split(d1, [4], axis=1)\n",
        "\n",
        "for d in [d1, d2, d3, d4, d5, d6, d7, d8]:\n",
        "    print(sorted(namestr(d, globals()))[-1], ' = \\n', d)"
      ],
      "execution_count": 13,
      "outputs": [
        {
          "output_type": "stream",
          "text": [
            "d1 = \n",
            "[[ 0  1  2  3  4  5  6  7  8]\n",
            " [ 9 10 11 12 13 14 15 16 17]\n",
            " [18 19 20 21 22 23 24 25 26]\n",
            " [27 28 29 30 31 32 33 34 35]\n",
            " [36 37 38 39 40 41 42 43 44]\n",
            " [45 46 47 48 49 50 51 52 53]]\n",
            "\n",
            "d2 = \n",
            "[[ 0  1  2  3  4  5  6  7  8]\n",
            " [ 9 10 11 12 13 14 15 16 17]]\n",
            "\n",
            "d3 = \n",
            "[[18 19 20 21 22 23 24 25 26]\n",
            " [27 28 29 30 31 32 33 34 35]\n",
            " [36 37 38 39 40 41 42 43 44]\n",
            " [45 46 47 48 49 50 51 52 53]]\n",
            "\n",
            "d4 = \n",
            "[[ 0  1  2  3  4  5  6  7  8]\n",
            " [ 9 10 11 12 13 14 15 16 17]]\n",
            "\n",
            "d5 = \n",
            "[[18 19 20 21 22 23 24 25 26]\n",
            " [27 28 29 30 31 32 33 34 35]]\n",
            "\n",
            "d6 = \n",
            "[[36 37 38 39 40 41 42 43 44]\n",
            " [45 46 47 48 49 50 51 52 53]]\n",
            "\n",
            "d7 = \n",
            "[[ 0  1  2  3]\n",
            " [ 9 10 11 12]\n",
            " [18 19 20 21]\n",
            " [27 28 29 30]\n",
            " [36 37 38 39]\n",
            " [45 46 47 48]]\n",
            "\n",
            "d8 = \n",
            "[[ 4  5  6  7  8]\n",
            " [13 14 15 16 17]\n",
            " [22 23 24 25 26]\n",
            " [31 32 33 34 35]\n",
            " [40 41 42 43 44]\n",
            " [49 50 51 52 53]]\n",
            "\n"
          ],
          "name": "stdout"
        }
      ]
    },
    {
      "cell_type": "code",
      "metadata": {
        "id": "bxPk5Prh0gTl",
        "colab_type": "code",
        "outputId": "f4f62060-934d-456e-9123-fb778effd050",
        "colab": {
          "base_uri": "https://localhost:8080/",
          "height": 665
        }
      },
      "source": [
        "d9, d10, d11 = np.vsplit(d1, [2, 4])\n",
        "d12, d13 = np.hsplit(d1, [4])\n",
        "\n",
        "for d in [d1, d9, d10, d11, d12, d13]:\n",
        "    print(sorted(namestr(d, globals()))[-1], ' = \\n', d)"
      ],
      "execution_count": 14,
      "outputs": [
        {
          "output_type": "stream",
          "text": [
            "d1 = \n",
            "[[ 0  1  2  3  4  5  6  7  8]\n",
            " [ 9 10 11 12 13 14 15 16 17]\n",
            " [18 19 20 21 22 23 24 25 26]\n",
            " [27 28 29 30 31 32 33 34 35]\n",
            " [36 37 38 39 40 41 42 43 44]\n",
            " [45 46 47 48 49 50 51 52 53]]\n",
            "\n",
            "d9 = \n",
            "[[ 0  1  2  3  4  5  6  7  8]\n",
            " [ 9 10 11 12 13 14 15 16 17]]\n",
            "\n",
            "d10 = \n",
            "[[18 19 20 21 22 23 24 25 26]\n",
            " [27 28 29 30 31 32 33 34 35]]\n",
            "\n",
            "d11 = \n",
            "[[36 37 38 39 40 41 42 43 44]\n",
            " [45 46 47 48 49 50 51 52 53]]\n",
            "\n",
            "d12 = \n",
            "[[ 0  1  2  3]\n",
            " [ 9 10 11 12]\n",
            " [18 19 20 21]\n",
            " [27 28 29 30]\n",
            " [36 37 38 39]\n",
            " [45 46 47 48]]\n",
            "\n",
            "d13 = \n",
            "[[ 4  5  6  7  8]\n",
            " [13 14 15 16 17]\n",
            " [22 23 24 25 26]\n",
            " [31 32 33 34 35]\n",
            " [40 41 42 43 44]\n",
            " [49 50 51 52 53]]\n",
            "\n"
          ],
          "name": "stdout"
        }
      ]
    },
    {
      "cell_type": "markdown",
      "metadata": {
        "id": "7m-Kcg_udzCo",
        "colab_type": "text"
      },
      "source": [
        "# 通用函数数组运算"
      ]
    },
    {
      "cell_type": "code",
      "metadata": {
        "id": "uA4MEhKW9Hgc",
        "colab_type": "code",
        "outputId": "a355a064-1cbf-45f3-f2e6-c97bbd0e2527",
        "colab": {
          "base_uri": "https://localhost:8080/",
          "height": 881
        }
      },
      "source": [
        "e1 = np.arange(20).reshape(4, 5)\n",
        "\n",
        "print('e1 = \\n', e1)\n",
        "print('e1 + 3 = \\n', e1 + 3)\n",
        "print('e1 * 2 = \\n', e1 * 2)\n",
        "print('e1 / 2 = \\n', e1 / 2)\n",
        "print('e1 // 2 = \\n', e1 // 2)\n",
        "print('e1 ** 2 = \\n', e1 ** 2)\n",
        "print('- e1 = \\n', - e1)\n",
        "print('e1 % 3 = \\n', e1 % 3)"
      ],
      "execution_count": 15,
      "outputs": [
        {
          "output_type": "stream",
          "text": [
            "e1 = \n",
            "[[ 0  1  2  3  4]\n",
            " [ 5  6  7  8  9]\n",
            " [10 11 12 13 14]\n",
            " [15 16 17 18 19]]\n",
            "\n",
            "e1 + 3 = \n",
            "[[ 3  4  5  6  7]\n",
            " [ 8  9 10 11 12]\n",
            " [13 14 15 16 17]\n",
            " [18 19 20 21 22]]\n",
            "\n",
            "e1 * 2 = \n",
            "[[ 0  2  4  6  8]\n",
            " [10 12 14 16 18]\n",
            " [20 22 24 26 28]\n",
            " [30 32 34 36 38]]\n",
            "\n",
            "e1 / 2 = \n",
            "[[0.  0.5 1.  1.5 2. ]\n",
            " [2.5 3.  3.5 4.  4.5]\n",
            " [5.  5.5 6.  6.5 7. ]\n",
            " [7.5 8.  8.5 9.  9.5]]\n",
            "\n",
            "e1 // 2 = \n",
            "[[0 0 1 1 2]\n",
            " [2 3 3 4 4]\n",
            " [5 5 6 6 7]\n",
            " [7 8 8 9 9]]\n",
            "\n",
            "e1 ** 2 = \n",
            "[[  0   1   4   9  16]\n",
            " [ 25  36  49  64  81]\n",
            " [100 121 144 169 196]\n",
            " [225 256 289 324 361]]\n",
            "\n",
            "- e1 = \n",
            "[[  0  -1  -2  -3  -4]\n",
            " [ -5  -6  -7  -8  -9]\n",
            " [-10 -11 -12 -13 -14]\n",
            " [-15 -16 -17 -18 -19]]\n",
            "\n",
            "e1 % 3 = \n",
            "[[0 1 2 0 1]\n",
            " [2 0 1 2 0]\n",
            " [1 2 0 1 2]\n",
            " [0 1 2 0 1]]\n",
            "\n"
          ],
          "name": "stdout"
        }
      ]
    },
    {
      "cell_type": "code",
      "metadata": {
        "id": "KXjEYq2Z9Y7a",
        "colab_type": "code",
        "outputId": "1cb0b3c1-28c4-4bc2-f0de-0bba22df8c72",
        "colab": {
          "base_uri": "https://localhost:8080/",
          "height": 161
        }
      },
      "source": [
        "e2 = np.arange(-4, 4)\n",
        "e3 = np.array([2 + 3j, 3 - 4j, -4 + 5j])\n",
        "\n",
        "print('e2 = ', e2)\n",
        "print('e3 = ', e3)\n",
        "print('abs(e2) = ', abs(e2))\n",
        "print('abs(e3) = ', abs(e3))"
      ],
      "execution_count": 16,
      "outputs": [
        {
          "output_type": "stream",
          "text": [
            "e2 = [-4 -3 -2 -1  0  1  2  3]\n",
            "\n",
            "e3 = [ 2.+3.j  3.-4.j -4.+5.j]\n",
            "\n",
            "abs(e2) = [4 3 2 1 0 1 2 3]\n",
            "\n",
            "abs(e3) = [3.60555128 5.         6.40312424]\n",
            "\n"
          ],
          "name": "stdout"
        }
      ]
    },
    {
      "cell_type": "code",
      "metadata": {
        "id": "S1LUbSnV-iA3",
        "colab_type": "code",
        "outputId": "893e82a4-e24e-4c7e-bb31-63a35ffe2e8b",
        "colab": {
          "base_uri": "https://localhost:8080/",
          "height": 197
        }
      },
      "source": [
        "e4 = np.linspace(0, np.pi, 5)[:4]\n",
        "\n",
        "print('e4      = ', e4)\n",
        "print('sin(e4) = ', np.sin(e4))\n",
        "print('cos(e4) = ', np.cos(e4))\n",
        "print('tan(e4) = ', np.tan(e4))\n",
        "print('atg(e4) = ', np.arctan(e4))"
      ],
      "execution_count": 17,
      "outputs": [
        {
          "output_type": "stream",
          "text": [
            "e4      = [0.         0.78539816 1.57079633 2.35619449]\n",
            "\n",
            "sin(e4) = [0.         0.70710678 1.         0.70710678]\n",
            "\n",
            "cos(e4) = [ 1.00000000e+00  7.07106781e-01  6.12323400e-17 -7.07106781e-01]\n",
            "\n",
            "tan(e4) = [ 0.00000000e+00  1.00000000e+00  1.63312394e+16 -1.00000000e+00]\n",
            "\n",
            "atg(e4) = [0.         0.66577375 1.00388482 1.16942282]\n",
            "\n"
          ],
          "name": "stdout"
        }
      ]
    },
    {
      "cell_type": "code",
      "metadata": {
        "id": "MHxY_GbN_lK-",
        "colab_type": "code",
        "outputId": "35a507ce-c05c-4cf1-8ada-5ecbfbcb514b",
        "colab": {
          "base_uri": "https://localhost:8080/",
          "height": 377
        }
      },
      "source": [
        "print('e1 = \\n', e1)\n",
        "print(f'e1 <= 10   < {np.count_nonzero(e1 <= 10)} >\\n', e1 <= 10)\n",
        "print(f'e1 == 10   < {np.count_nonzero(e1 == 10)} >\\n', e1 == 10)\n",
        "print(np.any(e1 > 20), ', ', np.any(e1 > 10), ', ', np.all(e1 > 10))"
      ],
      "execution_count": 18,
      "outputs": [
        {
          "output_type": "stream",
          "text": [
            "e1 = \n",
            "[[ 0  1  2  3  4]\n",
            " [ 5  6  7  8  9]\n",
            " [10 11 12 13 14]\n",
            " [15 16 17 18 19]]\n",
            "\n",
            "e1 <= 10   < 11 >\n",
            "[[ True  True  True  True  True]\n",
            " [ True  True  True  True  True]\n",
            " [ True False False False False]\n",
            " [False False False False False]]\n",
            "\n",
            "e1 == 10   < 1 >\n",
            "[[False False False False False]\n",
            " [False False False False False]\n",
            " [ True False False False False]\n",
            " [False False False False False]]\n",
            "\n",
            "False, True, False\n",
            "\n"
          ],
          "name": "stdout"
        }
      ]
    },
    {
      "cell_type": "code",
      "metadata": {
        "id": "DSB9EiSpAGjP",
        "colab_type": "code",
        "outputId": "e3957f21-fa26-44a2-a4af-571cf9b843ff",
        "colab": {
          "base_uri": "https://localhost:8080/",
          "height": 377
        }
      },
      "source": [
        "e5 = np.arange(10)\n",
        "print('e5 = ', e5)\n",
        "\n",
        "print(f'AND  e5 & 3 (0b11)\\n', e5 & 3)\n",
        "print(f'OR   e5 | 3 (0b11)\\n', e5 | 3)\n",
        "print(f'XOR  e5 ^ 3 (0b11)\\n', e5 ^ 3)\n",
        "print(f'NOT  ~ e5\\n', ~ e5)\n",
        "\n",
        "print(f'e1 % 3 == 0 | e1 % 5 == 0\\n', (e1 % 3 == 0) | (e1 % 5 == 0))"
      ],
      "execution_count": 19,
      "outputs": [
        {
          "output_type": "stream",
          "text": [
            "e5 = [0 1 2 3 4 5 6 7 8 9]\n",
            "\n",
            "AND  e5 & 3 (0b11)\n",
            "[0 1 2 3 0 1 2 3 0 1]\n",
            "\n",
            "OR   e5 | 3 (0b11)\n",
            "[ 3  3  3  3  7  7  7  7 11 11]\n",
            "\n",
            "XOR  e5 ^ 3 (0b11)\n",
            "[ 3  2  1  0  7  6  5  4 11 10]\n",
            "\n",
            "NOT  ~ e5\n",
            "[ -1  -2  -3  -4  -5  -6  -7  -8  -9 -10]\n",
            "\n",
            "e1 % 3 == 0 | e1 % 5 == 0\n",
            "[[ True False False  True False]\n",
            " [ True  True False False  True]\n",
            " [ True False  True False False]\n",
            " [ True False False  True False]]\n",
            "\n"
          ],
          "name": "stdout"
        }
      ]
    },
    {
      "cell_type": "code",
      "metadata": {
        "id": "_uAloTA2CWjN",
        "colab_type": "code",
        "outputId": "f8930840-6cef-4304-e594-d0a8d8f9b9c3",
        "colab": {
          "base_uri": "https://localhost:8080/",
          "height": 179
        }
      },
      "source": [
        "e6 = e1[e1 % 4 == 0]\n",
        "\n",
        "print(f'e1 =   {e1.shape}\\n', e1)\n",
        "print(f'e6 =   {e6.shape}\\n', e6)"
      ],
      "execution_count": 20,
      "outputs": [
        {
          "output_type": "stream",
          "text": [
            "e1 =   (4, 5)\n",
            "[[ 0  1  2  3  4]\n",
            " [ 5  6  7  8  9]\n",
            " [10 11 12 13 14]\n",
            " [15 16 17 18 19]]\n",
            "\n",
            "e6 =   (5,)\n",
            "[ 0  4  8 12 16]\n",
            "\n"
          ],
          "name": "stdout"
        }
      ]
    },
    {
      "cell_type": "code",
      "metadata": {
        "id": "XrT1NGRKEq5F",
        "colab_type": "code",
        "outputId": "c099f2f4-6974-4d80-aa4b-47e997bb1b74",
        "colab": {
          "base_uri": "https://localhost:8080/",
          "height": 197
        }
      },
      "source": [
        "f1 = np.arange(1, 7)\n",
        "f2 = np.zeros(12)\n",
        "f3 = np.empty(6)\n",
        "f4 = np.multiply(f1, 3, out=f2[::2])\n",
        "f5 = np.bitwise_and(f1, 3, out=f3)\n",
        "\n",
        "for f in [f1, f2, f3, f4, f5]:\n",
        "    print(sorted(namestr(f, globals()))[-1], ' = ', f)"
      ],
      "execution_count": 21,
      "outputs": [
        {
          "output_type": "stream",
          "text": [
            "f1 = [1 2 3 4 5 6]\n",
            "\n",
            "f2 = [ 3.  0.  6.  0.  9.  0. 12.  0. 15.  0. 18.  0.]\n",
            "\n",
            "f5 = [1. 2. 3. 0. 1. 2.]\n",
            "\n",
            "f4 = [ 3.  6.  9. 12. 15. 18.]\n",
            "\n",
            "f5 = [1. 2. 3. 0. 1. 2.]\n",
            "\n"
          ],
          "name": "stdout"
        }
      ]
    },
    {
      "cell_type": "code",
      "metadata": {
        "id": "5NzTfQBtF4TU",
        "colab_type": "code",
        "outputId": "8f56ff56-e0fd-4845-9fa4-9cd50585d4c5",
        "colab": {
          "base_uri": "https://localhost:8080/",
          "height": 233
        }
      },
      "source": [
        "f6 = np.arange(1, 5)\n",
        "f7 = np.arange(5, 10)\n",
        "\n",
        "f8 = np.multiply.outer(f6, f7)\n",
        "\n",
        "for f in [f6, f7, f8]:\n",
        "    print(sorted(namestr(f, globals()))[-1], ' = \\n', f)"
      ],
      "execution_count": 22,
      "outputs": [
        {
          "output_type": "stream",
          "text": [
            "f6 = \n",
            "[1 2 3 4]\n",
            "\n",
            "f7 = \n",
            "[5 6 7 8 9]\n",
            "\n",
            "f8 = \n",
            "[[ 5  6  7  8  9]\n",
            " [10 12 14 16 18]\n",
            " [15 18 21 24 27]\n",
            " [20 24 28 32 36]]\n",
            "\n"
          ],
          "name": "stdout"
        }
      ]
    },
    {
      "cell_type": "markdown",
      "metadata": {
        "id": "RUuKrHopd8qy",
        "colab_type": "text"
      },
      "source": [
        "# 聚合 广播规则"
      ]
    },
    {
      "cell_type": "code",
      "metadata": {
        "id": "GS00OmJiHg83",
        "colab_type": "code",
        "outputId": "7d81fb0b-0cca-4ddc-a3d0-fbba61b13bfc",
        "colab": {
          "base_uri": "https://localhost:8080/",
          "height": 269
        }
      },
      "source": [
        "g1 = np.arange(11)\n",
        "\n",
        "print('g1 = ', g1)\n",
        "\n",
        "print(', '.join(str(x) for x in [g1.sum(), g1.prod(), g1.mean(), g1.std(), g1.var()]))\n",
        "print(', '.join(str(x) for x in [g1.max(), g1.min(), g1.argmax(), g1.argmin(), g1.any(), g1.all()]))\n",
        "\n",
        "print(', '.join(str(x) for x in [np.nansum(g1), np.nanmedian(g1), np.nanstd(g1), np.nanargmax(g1)]))\n",
        "\n",
        "g2 = np.add.reduce(g1)\n",
        "g3 = np.add.accumulate(g1)\n",
        "\n",
        "for g in [g1, g2, g3]:\n",
        "    print(sorted(namestr(g, globals()))[-1], ' = ', g)"
      ],
      "execution_count": 23,
      "outputs": [
        {
          "output_type": "stream",
          "text": [
            "g1 = [ 0  1  2  3  4  5  6  7  8  9 10]\n",
            "\n",
            "55, 0, 5.0, 3.1622776601683795, 10.0\n",
            "\n",
            "10, 0, 10, 0, True, False\n",
            "\n",
            "55, 5.0, 3.1622776601683795, 10\n",
            "\n",
            "g1 = [ 0  1  2  3  4  5  6  7  8  9 10]\n",
            "\n",
            "g2 = 55\n",
            "\n",
            "g3 = [ 0  1  3  6 10 15 21 28 36 45 55]\n",
            "\n"
          ],
          "name": "stdout"
        }
      ]
    },
    {
      "cell_type": "code",
      "metadata": {
        "id": "LDio_ssgLr8x",
        "colab_type": "code",
        "outputId": "1c33edf4-a269-4528-90fd-93739b821245",
        "colab": {
          "base_uri": "https://localhost:8080/",
          "height": 251
        }
      },
      "source": [
        "g4 = np.arange(50).reshape(5, 10)\n",
        "\n",
        "print('g4 = \\n', g4)\n",
        "print('g4.max() = ', g4.max())\n",
        "print('g4.max(axis=1) = ', g4.max(axis=1))\n",
        "print('g4.sum(axis=0) = ', g4.sum(axis=0))"
      ],
      "execution_count": 24,
      "outputs": [
        {
          "output_type": "stream",
          "text": [
            "g4 = \n",
            "[[ 0  1  2  3  4  5  6  7  8  9]\n",
            " [10 11 12 13 14 15 16 17 18 19]\n",
            " [20 21 22 23 24 25 26 27 28 29]\n",
            " [30 31 32 33 34 35 36 37 38 39]\n",
            " [40 41 42 43 44 45 46 47 48 49]]\n",
            "\n",
            "g4.max() = 49\n",
            "\n",
            "g4.max(axis=1) = [ 9 19 29 39 49]\n",
            "\n",
            "g4.sum(axis=0) = [100 105 110 115 120 125 130 135 140 145]\n",
            "\n"
          ],
          "name": "stdout"
        }
      ]
    },
    {
      "cell_type": "code",
      "metadata": {
        "id": "1_XLCahuL1-S",
        "colab_type": "code",
        "outputId": "86c50849-236f-4c0f-eee2-133adc0b77b7",
        "colab": {
          "base_uri": "https://localhost:8080/",
          "height": 539
        }
      },
      "source": [
        "h1 = np.zeros(5)\n",
        "h2 = h1 + 4\n",
        "h3 = np.arange(15).reshape(3, 5)\n",
        "h4 = h2 + h3\n",
        "h5 = np.arange(5)\n",
        "h6 = np.arange(2, 7, 2)[:, None]\n",
        "h7 = h5 + h6\n",
        "\n",
        "for h in [h1, h2, h3, h4, h5, h6, h7]:\n",
        "    print(sorted(namestr(h, globals()))[-1], ' = \\n', h)"
      ],
      "execution_count": 25,
      "outputs": [
        {
          "output_type": "stream",
          "text": [
            "h1 = \n",
            "[0. 0. 0. 0. 0.]\n",
            "\n",
            "h2 = \n",
            "[4. 4. 4. 4. 4.]\n",
            "\n",
            "h3 = \n",
            "[[ 0  1  2  3  4]\n",
            " [ 5  6  7  8  9]\n",
            " [10 11 12 13 14]]\n",
            "\n",
            "h4 = \n",
            "[[ 4.  5.  6.  7.  8.]\n",
            " [ 9. 10. 11. 12. 13.]\n",
            " [14. 15. 16. 17. 18.]]\n",
            "\n",
            "h5 = \n",
            "[0 1 2 3 4]\n",
            "\n",
            "h6 = \n",
            "[[2]\n",
            " [4]\n",
            " [6]]\n",
            "\n",
            "h7 = \n",
            "[[ 2  3  4  5  6]\n",
            " [ 4  5  6  7  8]\n",
            " [ 6  7  8  9 10]]\n",
            "\n"
          ],
          "name": "stdout"
        }
      ]
    },
    {
      "cell_type": "markdown",
      "metadata": {
        "id": "lgglu26ieSlj",
        "colab_type": "text"
      },
      "source": [
        "# 花哨的索引 数组的排序 结构化数组"
      ]
    },
    {
      "cell_type": "code",
      "metadata": {
        "id": "ziKFdCCdMpJl",
        "colab_type": "code",
        "outputId": "a1469749-14c1-4cbc-c49d-9c9df70af749",
        "colab": {
          "base_uri": "https://localhost:8080/",
          "height": 197
        }
      },
      "source": [
        "i1 = np.arange(2, 15)\n",
        "\n",
        "i2 = i1[[2, 7, 5, 10, 3, 4]]\n",
        "i3 = i1[i2.reshape(2, 3)]\n",
        "\n",
        "for i in [i1, i2, i3]:\n",
        "    print(sorted(namestr(i, globals()))[-1], ' = \\n', i)"
      ],
      "execution_count": 26,
      "outputs": [
        {
          "output_type": "stream",
          "text": [
            "i1 = \n",
            "[ 2  3  4  5  6  7  8  9 10 11 12 13 14]\n",
            "\n",
            "i2 = \n",
            "[ 4  9  7 12  5  6]\n",
            "\n",
            "i3 = \n",
            "[[ 6 11  9]\n",
            " [14  7  8]]\n",
            "\n"
          ],
          "name": "stdout"
        }
      ]
    },
    {
      "cell_type": "code",
      "metadata": {
        "id": "GOCeKht3PC1k",
        "colab_type": "code",
        "outputId": "512012d4-c597-4749-9632-d8def0fd79a3",
        "colab": {
          "base_uri": "https://localhost:8080/",
          "height": 197
        }
      },
      "source": [
        "i2[[1, 3]] = -1\n",
        "\n",
        "for i in [i1, i2, i3]:\n",
        "    print(sorted(namestr(i, globals()))[-1], ' = \\n', i)"
      ],
      "execution_count": 27,
      "outputs": [
        {
          "output_type": "stream",
          "text": [
            "i1 = \n",
            "[ 2  3  4  5  6  7  8  9 10 11 12 13 14]\n",
            "\n",
            "i2 = \n",
            "[ 4 -1  7 -1  5  6]\n",
            "\n",
            "i3 = \n",
            "[[ 6 11  9]\n",
            " [14  7  8]]\n",
            "\n"
          ],
          "name": "stdout"
        }
      ]
    },
    {
      "cell_type": "code",
      "metadata": {
        "id": "6TMeyeXWTO2J",
        "colab_type": "code",
        "outputId": "3445181a-b6cc-4b19-cdcd-85bb9ba3a660",
        "colab": {
          "base_uri": "https://localhost:8080/",
          "height": 359
        }
      },
      "source": [
        "i4 = np.arange(40).reshape(4, 10)\n",
        "i5r = np.array([0, 3, 1, 2])\n",
        "i5c = np.array([3, 3, 6, 7])\n",
        "i5 = i4[i5r, i5c]\n",
        "i6 = i4[2, [3, 8, 5]]\n",
        "i7 = i4[:2, [3, 8, 5]]\n",
        "i8x = np.array([0, 0, 0, 1, 0, 0, 0, 0, 1, 0], dtype=bool)\n",
        "i8 = i4[[1, 3], i8x]\n",
        "\n",
        "for i in [i4, i5, i6, i7, i8]:\n",
        "    print(sorted(namestr(i, globals()))[-1], ' = \\n', i)"
      ],
      "execution_count": 28,
      "outputs": [
        {
          "output_type": "stream",
          "text": [
            "i4 = \n",
            "[[ 0  1  2  3  4  5  6  7  8  9]\n",
            " [10 11 12 13 14 15 16 17 18 19]\n",
            " [20 21 22 23 24 25 26 27 28 29]\n",
            " [30 31 32 33 34 35 36 37 38 39]]\n",
            "\n",
            "i5 = \n",
            "[ 3 33 16 27]\n",
            "\n",
            "i6 = \n",
            "[23 28 25]\n",
            "\n",
            "i7 = \n",
            "[[ 3  8  5]\n",
            " [13 18 15]]\n",
            "\n",
            "i8 = \n",
            "[13 38]\n",
            "\n"
          ],
          "name": "stdout"
        }
      ]
    },
    {
      "cell_type": "code",
      "metadata": {
        "id": "T8HoJxBHRcIr",
        "colab_type": "code",
        "outputId": "7e015685-4448-4073-bcf8-bc9093a5f6a8",
        "colab": {
          "base_uri": "https://localhost:8080/",
          "height": 449
        }
      },
      "source": [
        "j1 = np.random.randint(100, size=(4, 6))\n",
        "\n",
        "j2 = np.sort(j1)\n",
        "j3 = np.sort(j1, axis=0)\n",
        "j4 = np.argsort(j1)\n",
        "\n",
        "for j in [j1, j2, j3, j4]:\n",
        "    print(sorted(namestr(j, globals()))[-1], ' = \\n', j)"
      ],
      "execution_count": 29,
      "outputs": [
        {
          "output_type": "stream",
          "text": [
            "j1 = \n",
            "[[19 95 86  1 17 66]\n",
            " [69 14 21 97 45 32]\n",
            " [39 27 72 12 81 38]\n",
            " [42 65  0  5 43 22]]\n",
            "\n",
            "j2 = \n",
            "[[ 1 17 19 66 86 95]\n",
            " [14 21 32 45 69 97]\n",
            " [12 27 38 39 72 81]\n",
            " [ 0  5 22 42 43 65]]\n",
            "\n",
            "j3 = \n",
            "[[19 14  0  1 17 22]\n",
            " [39 27 21  5 43 32]\n",
            " [42 65 72 12 45 38]\n",
            " [69 95 86 97 81 66]]\n",
            "\n",
            "j4 = \n",
            "[[3 4 0 5 2 1]\n",
            " [1 2 5 4 0 3]\n",
            " [3 1 5 0 2 4]\n",
            " [2 3 5 0 4 1]]\n",
            "\n"
          ],
          "name": "stdout"
        }
      ]
    },
    {
      "cell_type": "code",
      "metadata": {
        "id": "CykCpRgqTuUU",
        "colab_type": "code",
        "outputId": "efbbf428-ed95-4c43-8edb-fd3e1e9f6016",
        "colab": {
          "base_uri": "https://localhost:8080/",
          "height": 233
        }
      },
      "source": [
        "j5 = np.partition(j1, 3)\n",
        "\n",
        "j1.sort()\n",
        "\n",
        "for j in [j1, j5]:\n",
        "    print(sorted(namestr(j, globals()))[-1], ' = \\n', j)"
      ],
      "execution_count": 30,
      "outputs": [
        {
          "output_type": "stream",
          "text": [
            "j1 = \n",
            "[[ 1 17 19 66 86 95]\n",
            " [14 21 32 45 69 97]\n",
            " [12 27 38 39 72 81]\n",
            " [ 0  5 22 42 43 65]]\n",
            "\n",
            "j5 = \n",
            "[[ 1 19 17 66 95 86]\n",
            " [14 21 32 45 69 97]\n",
            " [12 38 27 39 81 72]\n",
            " [ 5  0 22 42 43 65]]\n",
            "\n"
          ],
          "name": "stdout"
        }
      ]
    },
    {
      "cell_type": "code",
      "metadata": {
        "id": "2LFQnHjvWPC7",
        "colab_type": "code",
        "outputId": "67d2495d-3544-4f3c-e7e5-6ff74e0dd8c2",
        "colab": {
          "base_uri": "https://localhost:8080/",
          "height": 161
        }
      },
      "source": [
        "k1 = np.zeros(3, dtype={'names': ('name', 'age', 'height'),\n",
        "                        'formats': ('U10', 'i4', 'f8')})\n",
        "\n",
        "k1['name'] = ['Liam', 'Max', 'Hank']\n",
        "k1['age'] = 22\n",
        "k1['height'] = [188.8, 195, 177.7]\n",
        "\n",
        "print('k1 = ', k1)\n",
        "print('k1.dtype = ', k1.dtype)\n",
        "\n",
        "print('k1 = ', k1)\n",
        "print(\"k1[k1['height'] < 190] = \", k1[k1['height'] < 190])"
      ],
      "execution_count": 31,
      "outputs": [
        {
          "output_type": "stream",
          "text": [
            "k1 = [('Liam', 22, 188.8) ('Max', 22, 195. ) ('Hank', 22, 177.7)]\n",
            "\n",
            "k1.dtype = [('name', '<U10'), ('age', '<i4'), ('height', '<f8')]\n",
            "\n",
            "k1 = [('Liam', 22, 188.8) ('Max', 22, 195. ) ('Hank', 22, 177.7)]\n",
            "\n",
            "k1[k1['height'] < 190] = [('Liam', 22, 188.8) ('Hank', 22, 177.7)]\n",
            "\n"
          ],
          "name": "stdout"
        }
      ]
    },
    {
      "cell_type": "code",
      "metadata": {
        "id": "ZJPXqvE0Wlzf",
        "colab_type": "code",
        "outputId": "31d1d015-eddb-4e06-ae4c-e9ad7db21f9f",
        "colab": {
          "base_uri": "https://localhost:8080/",
          "height": 179
        }
      },
      "source": [
        "k2x = np.dtype([('id', 'i8'), ('mat', 'f8', (4, 4))])\n",
        "\n",
        "k2 = np.zeros(2, k2x)\n",
        "\n",
        "print('k2 = \\n', k2)\n",
        "print('k2[0] = \\n', k2[0])\n",
        "print('k2.dtype = ', k2.dtype)"
      ],
      "execution_count": 32,
      "outputs": [
        {
          "output_type": "stream",
          "text": [
            "k2 = \n",
            "[(0, [[0., 0., 0., 0.], [0., 0., 0., 0.], [0., 0., 0., 0.], [0., 0., 0., 0.]])\n",
            " (0, [[0., 0., 0., 0.], [0., 0., 0., 0.], [0., 0., 0., 0.], [0., 0., 0., 0.]])]\n",
            "\n",
            "k2[0] = \n",
            "(0, [[0., 0., 0., 0.], [0., 0., 0., 0.], [0., 0., 0., 0.], [0., 0., 0., 0.]])\n",
            "\n",
            "k2.dtype = [('id', '<i8'), ('mat', '<f8', (4, 4))]\n",
            "\n"
          ],
          "name": "stdout"
        }
      ]
    }
  ]
}